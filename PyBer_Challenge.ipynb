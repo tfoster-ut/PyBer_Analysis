{
  "nbformat": 4,
  "nbformat_minor": 0,
  "metadata": {
    "anaconda-cloud": {},
    "kernelspec": {
      "display_name": "PythonData",
      "language": "python",
      "name": "pythondata"
    },
    "language_info": {
      "codemirror_mode": {
        "name": "ipython",
        "version": 3
      },
      "file_extension": ".py",
      "mimetype": "text/x-python",
      "name": "python",
      "nbconvert_exporter": "python",
      "pygments_lexer": "ipython3",
      "version": "3.6.10"
    },
    "colab": {
      "name": "PyBer_Challenge.ipynb",
      "provenance": [],
      "collapsed_sections": [],
      "toc_visible": true
    }
  },
  "cells": [
    {
      "cell_type": "markdown",
      "metadata": {
        "id": "lSYt9B7Vee4h",
        "colab_type": "text"
      },
      "source": [
        "# Pyber Challenge"
      ]
    },
    {
      "cell_type": "code",
      "metadata": {
        "id": "hCIrbEb6eorC",
        "colab_type": "code",
        "colab": {
          "base_uri": "https://localhost:8080/",
          "height": 33
        },
        "outputId": "8106e138-4be3-4708-f5f0-b74efa3e9714"
      },
      "source": [
        "from google.colab import drive\n",
        "drive.mount('/content/drive')"
      ],
      "execution_count": 1,
      "outputs": [
        {
          "output_type": "stream",
          "text": [
            "Drive already mounted at /content/drive; to attempt to forcibly remount, call drive.mount(\"/content/drive\", force_remount=True).\n"
          ],
          "name": "stdout"
        }
      ]
    },
    {
      "cell_type": "markdown",
      "metadata": {
        "id": "Sf4cbLr1ee4n",
        "colab_type": "text"
      },
      "source": [
        "### 4.3 Loading and Reading CSV files"
      ]
    },
    {
      "cell_type": "code",
      "metadata": {
        "id": "m9e0H0P1ee4n",
        "colab_type": "code",
        "colab": {}
      },
      "source": [
        "# Add Matplotlib inline magic command\n",
        "%matplotlib inline\n",
        "# Dependencies and Setup\n",
        "import matplotlib.pyplot as plt\n",
        "import pandas as pd\n",
        "\n",
        "# File to Load (Remember to change these)\n",
        "city_data_to_load = \"/content/drive/My Drive/Colab Notebooks/PyBer_Analysis/Resources/city_data.csv\"\n",
        "ride_data_to_load = \"/content/drive/My Drive/Colab Notebooks/PyBer_Analysis/Resources/ride_data.csv\"\n",
        "\n",
        "# Read the City and Ride Data\n",
        "city_data_df = pd.read_csv(city_data_to_load)\n",
        "ride_data_df = pd.read_csv(ride_data_to_load)"
      ],
      "execution_count": 2,
      "outputs": []
    },
    {
      "cell_type": "markdown",
      "metadata": {
        "id": "OimqwICNee4s",
        "colab_type": "text"
      },
      "source": [
        "### Merge the DataFrames"
      ]
    },
    {
      "cell_type": "code",
      "metadata": {
        "scrolled": true,
        "id": "gs1Q1HEvee4t",
        "colab_type": "code",
        "colab": {
          "base_uri": "https://localhost:8080/",
          "height": 191
        },
        "outputId": "9005bfb0-02a2-445d-de40-fcd7c69ef055"
      },
      "source": [
        "# Combine the data into a single dataset\n",
        "pyber_data_df = pd.merge(ride_data_df, city_data_df, how=\"left\", on=[\"city\", \"city\"])\n",
        "# Display the data table for preview\n",
        "pyber_data_df.head()"
      ],
      "execution_count": 3,
      "outputs": [
        {
          "output_type": "execute_result",
          "data": {
            "text/html": [
              "<div>\n",
              "<style scoped>\n",
              "    .dataframe tbody tr th:only-of-type {\n",
              "        vertical-align: middle;\n",
              "    }\n",
              "\n",
              "    .dataframe tbody tr th {\n",
              "        vertical-align: top;\n",
              "    }\n",
              "\n",
              "    .dataframe thead th {\n",
              "        text-align: right;\n",
              "    }\n",
              "</style>\n",
              "<table border=\"1\" class=\"dataframe\">\n",
              "  <thead>\n",
              "    <tr style=\"text-align: right;\">\n",
              "      <th></th>\n",
              "      <th>city</th>\n",
              "      <th>date</th>\n",
              "      <th>fare</th>\n",
              "      <th>ride_id</th>\n",
              "      <th>driver_count</th>\n",
              "      <th>type</th>\n",
              "    </tr>\n",
              "  </thead>\n",
              "  <tbody>\n",
              "    <tr>\n",
              "      <th>0</th>\n",
              "      <td>Lake Jonathanshire</td>\n",
              "      <td>2019-01-14 10:14:22</td>\n",
              "      <td>13.83</td>\n",
              "      <td>5739410935873</td>\n",
              "      <td>5</td>\n",
              "      <td>Urban</td>\n",
              "    </tr>\n",
              "    <tr>\n",
              "      <th>1</th>\n",
              "      <td>South Michelleport</td>\n",
              "      <td>2019-03-04 18:24:09</td>\n",
              "      <td>30.24</td>\n",
              "      <td>2343912425577</td>\n",
              "      <td>72</td>\n",
              "      <td>Urban</td>\n",
              "    </tr>\n",
              "    <tr>\n",
              "      <th>2</th>\n",
              "      <td>Port Samanthamouth</td>\n",
              "      <td>2019-02-24 04:29:00</td>\n",
              "      <td>33.44</td>\n",
              "      <td>2005065760003</td>\n",
              "      <td>57</td>\n",
              "      <td>Urban</td>\n",
              "    </tr>\n",
              "    <tr>\n",
              "      <th>3</th>\n",
              "      <td>Rodneyfort</td>\n",
              "      <td>2019-02-10 23:22:03</td>\n",
              "      <td>23.44</td>\n",
              "      <td>5149245426178</td>\n",
              "      <td>34</td>\n",
              "      <td>Urban</td>\n",
              "    </tr>\n",
              "    <tr>\n",
              "      <th>4</th>\n",
              "      <td>South Jack</td>\n",
              "      <td>2019-03-06 04:28:35</td>\n",
              "      <td>34.58</td>\n",
              "      <td>3908451377344</td>\n",
              "      <td>46</td>\n",
              "      <td>Urban</td>\n",
              "    </tr>\n",
              "  </tbody>\n",
              "</table>\n",
              "</div>"
            ],
            "text/plain": [
              "                 city                 date  ...  driver_count   type\n",
              "0  Lake Jonathanshire  2019-01-14 10:14:22  ...             5  Urban\n",
              "1  South Michelleport  2019-03-04 18:24:09  ...            72  Urban\n",
              "2  Port Samanthamouth  2019-02-24 04:29:00  ...            57  Urban\n",
              "3          Rodneyfort  2019-02-10 23:22:03  ...            34  Urban\n",
              "4          South Jack  2019-03-06 04:28:35  ...            46  Urban\n",
              "\n",
              "[5 rows x 6 columns]"
            ]
          },
          "metadata": {
            "tags": []
          },
          "execution_count": 3
        }
      ]
    },
    {
      "cell_type": "markdown",
      "metadata": {
        "id": "O4ChSOADee4z",
        "colab_type": "text"
      },
      "source": [
        "## Deliverable 1: Get a Summary DataFrame "
      ]
    },
    {
      "cell_type": "code",
      "metadata": {
        "id": "xPTyHIPHee40",
        "colab_type": "code",
        "colab": {
          "base_uri": "https://localhost:8080/",
          "height": 98
        },
        "outputId": "b3b2255e-efa0-454d-9945-4b353865e134"
      },
      "source": [
        "#  1. Get the total rides for each city type\n",
        "total_rides = pyber_data_df.groupby(['type']).count()['ride_id']\n",
        "total_rides"
      ],
      "execution_count": 4,
      "outputs": [
        {
          "output_type": "execute_result",
          "data": {
            "text/plain": [
              "type\n",
              "Rural        125\n",
              "Suburban     625\n",
              "Urban       1625\n",
              "Name: ride_id, dtype: int64"
            ]
          },
          "metadata": {
            "tags": []
          },
          "execution_count": 4
        }
      ]
    },
    {
      "cell_type": "code",
      "metadata": {
        "id": "a5XPbrf8ee47",
        "colab_type": "code",
        "colab": {
          "base_uri": "https://localhost:8080/",
          "height": 98
        },
        "outputId": "1adb10b0-931f-4643-bdef-f3bb14ec95a8"
      },
      "source": [
        "# 2. Get the total drivers for each city type\n",
        "total_drivers = city_data_df.groupby(['type']).sum()['driver_count']\n",
        "total_drivers"
      ],
      "execution_count": 5,
      "outputs": [
        {
          "output_type": "execute_result",
          "data": {
            "text/plain": [
              "type\n",
              "Rural         78\n",
              "Suburban     490\n",
              "Urban       2405\n",
              "Name: driver_count, dtype: int64"
            ]
          },
          "metadata": {
            "tags": []
          },
          "execution_count": 5
        }
      ]
    },
    {
      "cell_type": "code",
      "metadata": {
        "id": "6Pni0Grtee5C",
        "colab_type": "code",
        "colab": {
          "base_uri": "https://localhost:8080/",
          "height": 98
        },
        "outputId": "d9f46c9f-1626-4f7e-b92f-a7d1695b75bb"
      },
      "source": [
        "#  3. Get the total amount of fares for each city type\n",
        "total_fares = pyber_data_df.groupby(['type']).sum()['fare']\n",
        "total_fares"
      ],
      "execution_count": 6,
      "outputs": [
        {
          "output_type": "execute_result",
          "data": {
            "text/plain": [
              "type\n",
              "Rural        4327.93\n",
              "Suburban    19356.33\n",
              "Urban       39854.38\n",
              "Name: fare, dtype: float64"
            ]
          },
          "metadata": {
            "tags": []
          },
          "execution_count": 6
        }
      ]
    },
    {
      "cell_type": "code",
      "metadata": {
        "id": "Gv9u_6tyee5G",
        "colab_type": "code",
        "colab": {
          "base_uri": "https://localhost:8080/",
          "height": 98
        },
        "outputId": "b952aec8-9bde-4cf0-d693-23ce009a94b8"
      },
      "source": [
        "#  4. Get the average fare per ride for each city type. \n",
        "avg_fare_ride = pyber_data_df.groupby(['type']).mean()['fare']\n",
        "avg_fare_ride"
      ],
      "execution_count": 7,
      "outputs": [
        {
          "output_type": "execute_result",
          "data": {
            "text/plain": [
              "type\n",
              "Rural       34.623440\n",
              "Suburban    30.970128\n",
              "Urban       24.525772\n",
              "Name: fare, dtype: float64"
            ]
          },
          "metadata": {
            "tags": []
          },
          "execution_count": 7
        }
      ]
    },
    {
      "cell_type": "code",
      "metadata": {
        "id": "BwZ_db1gee5K",
        "colab_type": "code",
        "colab": {
          "base_uri": "https://localhost:8080/",
          "height": 98
        },
        "outputId": "0cb2893b-d855-46bb-c122-5f0395d40112"
      },
      "source": [
        "# 5. Get the average fare per driver for each city type. \n",
        "avg_fare_driver = pyber_data_df.groupby(['type']).sum()['fare'] / total_drivers\n",
        "avg_fare_driver"
      ],
      "execution_count": 8,
      "outputs": [
        {
          "output_type": "execute_result",
          "data": {
            "text/plain": [
              "type\n",
              "Rural       55.486282\n",
              "Suburban    39.502714\n",
              "Urban       16.571468\n",
              "dtype: float64"
            ]
          },
          "metadata": {
            "tags": []
          },
          "execution_count": 8
        }
      ]
    },
    {
      "cell_type": "code",
      "metadata": {
        "id": "GHOkXN-Ree5O",
        "colab_type": "code",
        "colab": {
          "base_uri": "https://localhost:8080/",
          "height": 162
        },
        "outputId": "3d60778b-e0ce-404c-a666-1da1057c3839"
      },
      "source": [
        "#  6. Create a PyBer summary DataFrame. \n",
        "pyber_summary_df = pd.DataFrame({\n",
        "    'Total Rides': total_rides,\n",
        "    'Total Drivers': total_drivers,\n",
        "    'Total Fares': total_fares,\n",
        "    'Avg. Fare per Ride': avg_fare_ride,\n",
        "    'Avg. Fare per Driver': avg_fare_driver\n",
        "})\n",
        "\n",
        "pyber_summary_df"
      ],
      "execution_count": 9,
      "outputs": [
        {
          "output_type": "execute_result",
          "data": {
            "text/html": [
              "<div>\n",
              "<style scoped>\n",
              "    .dataframe tbody tr th:only-of-type {\n",
              "        vertical-align: middle;\n",
              "    }\n",
              "\n",
              "    .dataframe tbody tr th {\n",
              "        vertical-align: top;\n",
              "    }\n",
              "\n",
              "    .dataframe thead th {\n",
              "        text-align: right;\n",
              "    }\n",
              "</style>\n",
              "<table border=\"1\" class=\"dataframe\">\n",
              "  <thead>\n",
              "    <tr style=\"text-align: right;\">\n",
              "      <th></th>\n",
              "      <th>Total Rides</th>\n",
              "      <th>Total Drivers</th>\n",
              "      <th>Total Fares</th>\n",
              "      <th>Avg. Fare per Ride</th>\n",
              "      <th>Avg. Fare per Driver</th>\n",
              "    </tr>\n",
              "    <tr>\n",
              "      <th>type</th>\n",
              "      <th></th>\n",
              "      <th></th>\n",
              "      <th></th>\n",
              "      <th></th>\n",
              "      <th></th>\n",
              "    </tr>\n",
              "  </thead>\n",
              "  <tbody>\n",
              "    <tr>\n",
              "      <th>Rural</th>\n",
              "      <td>125</td>\n",
              "      <td>78</td>\n",
              "      <td>4327.93</td>\n",
              "      <td>34.623440</td>\n",
              "      <td>55.486282</td>\n",
              "    </tr>\n",
              "    <tr>\n",
              "      <th>Suburban</th>\n",
              "      <td>625</td>\n",
              "      <td>490</td>\n",
              "      <td>19356.33</td>\n",
              "      <td>30.970128</td>\n",
              "      <td>39.502714</td>\n",
              "    </tr>\n",
              "    <tr>\n",
              "      <th>Urban</th>\n",
              "      <td>1625</td>\n",
              "      <td>2405</td>\n",
              "      <td>39854.38</td>\n",
              "      <td>24.525772</td>\n",
              "      <td>16.571468</td>\n",
              "    </tr>\n",
              "  </tbody>\n",
              "</table>\n",
              "</div>"
            ],
            "text/plain": [
              "          Total Rides  Total Drivers  ...  Avg. Fare per Ride  Avg. Fare per Driver\n",
              "type                                  ...                                          \n",
              "Rural             125             78  ...           34.623440             55.486282\n",
              "Suburban          625            490  ...           30.970128             39.502714\n",
              "Urban            1625           2405  ...           24.525772             16.571468\n",
              "\n",
              "[3 rows x 5 columns]"
            ]
          },
          "metadata": {
            "tags": []
          },
          "execution_count": 9
        }
      ]
    },
    {
      "cell_type": "code",
      "metadata": {
        "id": "kcYD62Ozee5R",
        "colab_type": "code",
        "colab": {
          "base_uri": "https://localhost:8080/",
          "height": 133
        },
        "outputId": "13591bb7-71c4-4ecf-ed04-5b7d53456387"
      },
      "source": [
        "#  7. Cleaning up the DataFrame. Delete the index name\n",
        "pyber_summary_df.index.name = None\n",
        "pyber_summary_df"
      ],
      "execution_count": 10,
      "outputs": [
        {
          "output_type": "execute_result",
          "data": {
            "text/html": [
              "<div>\n",
              "<style scoped>\n",
              "    .dataframe tbody tr th:only-of-type {\n",
              "        vertical-align: middle;\n",
              "    }\n",
              "\n",
              "    .dataframe tbody tr th {\n",
              "        vertical-align: top;\n",
              "    }\n",
              "\n",
              "    .dataframe thead th {\n",
              "        text-align: right;\n",
              "    }\n",
              "</style>\n",
              "<table border=\"1\" class=\"dataframe\">\n",
              "  <thead>\n",
              "    <tr style=\"text-align: right;\">\n",
              "      <th></th>\n",
              "      <th>Total Rides</th>\n",
              "      <th>Total Drivers</th>\n",
              "      <th>Total Fares</th>\n",
              "      <th>Avg. Fare per Ride</th>\n",
              "      <th>Avg. Fare per Driver</th>\n",
              "    </tr>\n",
              "  </thead>\n",
              "  <tbody>\n",
              "    <tr>\n",
              "      <th>Rural</th>\n",
              "      <td>125</td>\n",
              "      <td>78</td>\n",
              "      <td>4327.93</td>\n",
              "      <td>34.623440</td>\n",
              "      <td>55.486282</td>\n",
              "    </tr>\n",
              "    <tr>\n",
              "      <th>Suburban</th>\n",
              "      <td>625</td>\n",
              "      <td>490</td>\n",
              "      <td>19356.33</td>\n",
              "      <td>30.970128</td>\n",
              "      <td>39.502714</td>\n",
              "    </tr>\n",
              "    <tr>\n",
              "      <th>Urban</th>\n",
              "      <td>1625</td>\n",
              "      <td>2405</td>\n",
              "      <td>39854.38</td>\n",
              "      <td>24.525772</td>\n",
              "      <td>16.571468</td>\n",
              "    </tr>\n",
              "  </tbody>\n",
              "</table>\n",
              "</div>"
            ],
            "text/plain": [
              "          Total Rides  Total Drivers  ...  Avg. Fare per Ride  Avg. Fare per Driver\n",
              "Rural             125             78  ...           34.623440             55.486282\n",
              "Suburban          625            490  ...           30.970128             39.502714\n",
              "Urban            1625           2405  ...           24.525772             16.571468\n",
              "\n",
              "[3 rows x 5 columns]"
            ]
          },
          "metadata": {
            "tags": []
          },
          "execution_count": 10
        }
      ]
    },
    {
      "cell_type": "code",
      "metadata": {
        "id": "oBOMJWZgee5W",
        "colab_type": "code",
        "colab": {
          "base_uri": "https://localhost:8080/",
          "height": 133
        },
        "outputId": "11586613-8d54-4a8a-d28c-38b6036893f1"
      },
      "source": [
        "#  8. Format the columns.\n",
        "pyber_summary_df['Total Rides'] = pyber_summary_df['Total Rides'].map('{:,}'.format)\n",
        "pyber_summary_df['Total Drivers'] = pyber_summary_df['Total Drivers'].map('{:,}'.format)\n",
        "pyber_summary_df['Total Fares'] = pyber_summary_df['Total Fares'].map('${:,.2f}'.format)\n",
        "pyber_summary_df['Avg. Fare per Ride'] = pyber_summary_df['Avg. Fare per Ride'].map('${:.2f}'.format)\n",
        "pyber_summary_df['Avg. Fare per Driver'] = pyber_summary_df['Avg. Fare per Driver'].map('${:.2f}'.format)\n",
        "\n",
        "pyber_summary_df"
      ],
      "execution_count": 11,
      "outputs": [
        {
          "output_type": "execute_result",
          "data": {
            "text/html": [
              "<div>\n",
              "<style scoped>\n",
              "    .dataframe tbody tr th:only-of-type {\n",
              "        vertical-align: middle;\n",
              "    }\n",
              "\n",
              "    .dataframe tbody tr th {\n",
              "        vertical-align: top;\n",
              "    }\n",
              "\n",
              "    .dataframe thead th {\n",
              "        text-align: right;\n",
              "    }\n",
              "</style>\n",
              "<table border=\"1\" class=\"dataframe\">\n",
              "  <thead>\n",
              "    <tr style=\"text-align: right;\">\n",
              "      <th></th>\n",
              "      <th>Total Rides</th>\n",
              "      <th>Total Drivers</th>\n",
              "      <th>Total Fares</th>\n",
              "      <th>Avg. Fare per Ride</th>\n",
              "      <th>Avg. Fare per Driver</th>\n",
              "    </tr>\n",
              "  </thead>\n",
              "  <tbody>\n",
              "    <tr>\n",
              "      <th>Rural</th>\n",
              "      <td>125</td>\n",
              "      <td>78</td>\n",
              "      <td>$4,327.93</td>\n",
              "      <td>$34.62</td>\n",
              "      <td>$55.49</td>\n",
              "    </tr>\n",
              "    <tr>\n",
              "      <th>Suburban</th>\n",
              "      <td>625</td>\n",
              "      <td>490</td>\n",
              "      <td>$19,356.33</td>\n",
              "      <td>$30.97</td>\n",
              "      <td>$39.50</td>\n",
              "    </tr>\n",
              "    <tr>\n",
              "      <th>Urban</th>\n",
              "      <td>1,625</td>\n",
              "      <td>2,405</td>\n",
              "      <td>$39,854.38</td>\n",
              "      <td>$24.53</td>\n",
              "      <td>$16.57</td>\n",
              "    </tr>\n",
              "  </tbody>\n",
              "</table>\n",
              "</div>"
            ],
            "text/plain": [
              "         Total Rides Total Drivers  ... Avg. Fare per Ride Avg. Fare per Driver\n",
              "Rural            125            78  ...             $34.62               $55.49\n",
              "Suburban         625           490  ...             $30.97               $39.50\n",
              "Urban          1,625         2,405  ...             $24.53               $16.57\n",
              "\n",
              "[3 rows x 5 columns]"
            ]
          },
          "metadata": {
            "tags": []
          },
          "execution_count": 11
        }
      ]
    },
    {
      "cell_type": "markdown",
      "metadata": {
        "id": "uliW_linee5Z",
        "colab_type": "text"
      },
      "source": [
        "## Deliverable 2.  Create a multiple line plot that shows the total weekly of the fares for each type of city."
      ]
    },
    {
      "cell_type": "code",
      "metadata": {
        "id": "wFxNIQURee5Z",
        "colab_type": "code",
        "colab": {
          "base_uri": "https://localhost:8080/",
          "height": 191
        },
        "outputId": "0a5809a6-c2cb-4439-8f5a-19fa133aa7f0"
      },
      "source": [
        "# 1. Read the merged DataFrame\n",
        "pyber_data_df.head()"
      ],
      "execution_count": 12,
      "outputs": [
        {
          "output_type": "execute_result",
          "data": {
            "text/html": [
              "<div>\n",
              "<style scoped>\n",
              "    .dataframe tbody tr th:only-of-type {\n",
              "        vertical-align: middle;\n",
              "    }\n",
              "\n",
              "    .dataframe tbody tr th {\n",
              "        vertical-align: top;\n",
              "    }\n",
              "\n",
              "    .dataframe thead th {\n",
              "        text-align: right;\n",
              "    }\n",
              "</style>\n",
              "<table border=\"1\" class=\"dataframe\">\n",
              "  <thead>\n",
              "    <tr style=\"text-align: right;\">\n",
              "      <th></th>\n",
              "      <th>city</th>\n",
              "      <th>date</th>\n",
              "      <th>fare</th>\n",
              "      <th>ride_id</th>\n",
              "      <th>driver_count</th>\n",
              "      <th>type</th>\n",
              "    </tr>\n",
              "  </thead>\n",
              "  <tbody>\n",
              "    <tr>\n",
              "      <th>0</th>\n",
              "      <td>Lake Jonathanshire</td>\n",
              "      <td>2019-01-14 10:14:22</td>\n",
              "      <td>13.83</td>\n",
              "      <td>5739410935873</td>\n",
              "      <td>5</td>\n",
              "      <td>Urban</td>\n",
              "    </tr>\n",
              "    <tr>\n",
              "      <th>1</th>\n",
              "      <td>South Michelleport</td>\n",
              "      <td>2019-03-04 18:24:09</td>\n",
              "      <td>30.24</td>\n",
              "      <td>2343912425577</td>\n",
              "      <td>72</td>\n",
              "      <td>Urban</td>\n",
              "    </tr>\n",
              "    <tr>\n",
              "      <th>2</th>\n",
              "      <td>Port Samanthamouth</td>\n",
              "      <td>2019-02-24 04:29:00</td>\n",
              "      <td>33.44</td>\n",
              "      <td>2005065760003</td>\n",
              "      <td>57</td>\n",
              "      <td>Urban</td>\n",
              "    </tr>\n",
              "    <tr>\n",
              "      <th>3</th>\n",
              "      <td>Rodneyfort</td>\n",
              "      <td>2019-02-10 23:22:03</td>\n",
              "      <td>23.44</td>\n",
              "      <td>5149245426178</td>\n",
              "      <td>34</td>\n",
              "      <td>Urban</td>\n",
              "    </tr>\n",
              "    <tr>\n",
              "      <th>4</th>\n",
              "      <td>South Jack</td>\n",
              "      <td>2019-03-06 04:28:35</td>\n",
              "      <td>34.58</td>\n",
              "      <td>3908451377344</td>\n",
              "      <td>46</td>\n",
              "      <td>Urban</td>\n",
              "    </tr>\n",
              "  </tbody>\n",
              "</table>\n",
              "</div>"
            ],
            "text/plain": [
              "                 city                 date  ...  driver_count   type\n",
              "0  Lake Jonathanshire  2019-01-14 10:14:22  ...             5  Urban\n",
              "1  South Michelleport  2019-03-04 18:24:09  ...            72  Urban\n",
              "2  Port Samanthamouth  2019-02-24 04:29:00  ...            57  Urban\n",
              "3          Rodneyfort  2019-02-10 23:22:03  ...            34  Urban\n",
              "4          South Jack  2019-03-06 04:28:35  ...            46  Urban\n",
              "\n",
              "[5 rows x 6 columns]"
            ]
          },
          "metadata": {
            "tags": []
          },
          "execution_count": 12
        }
      ]
    },
    {
      "cell_type": "code",
      "metadata": {
        "id": "yh7BcPKZee5c",
        "colab_type": "code",
        "colab": {
          "base_uri": "https://localhost:8080/",
          "height": 420
        },
        "outputId": "f47e900b-3ac8-4b70-b5b7-72ae0b940405"
      },
      "source": [
        "# 2. Using groupby() to create a new DataFrame showing the sum of the fares \n",
        "#  for each date where the indices are the city type and date.\n",
        "pyber_grouped_df = pyber_data_df.groupby(['type', 'date']).sum()[['fare']]\n",
        "pyber_grouped_df"
      ],
      "execution_count": 13,
      "outputs": [
        {
          "output_type": "execute_result",
          "data": {
            "text/html": [
              "<div>\n",
              "<style scoped>\n",
              "    .dataframe tbody tr th:only-of-type {\n",
              "        vertical-align: middle;\n",
              "    }\n",
              "\n",
              "    .dataframe tbody tr th {\n",
              "        vertical-align: top;\n",
              "    }\n",
              "\n",
              "    .dataframe thead th {\n",
              "        text-align: right;\n",
              "    }\n",
              "</style>\n",
              "<table border=\"1\" class=\"dataframe\">\n",
              "  <thead>\n",
              "    <tr style=\"text-align: right;\">\n",
              "      <th></th>\n",
              "      <th></th>\n",
              "      <th>fare</th>\n",
              "    </tr>\n",
              "    <tr>\n",
              "      <th>type</th>\n",
              "      <th>date</th>\n",
              "      <th></th>\n",
              "    </tr>\n",
              "  </thead>\n",
              "  <tbody>\n",
              "    <tr>\n",
              "      <th rowspan=\"5\" valign=\"top\">Rural</th>\n",
              "      <th>2019-01-01 09:45:36</th>\n",
              "      <td>43.69</td>\n",
              "    </tr>\n",
              "    <tr>\n",
              "      <th>2019-01-02 11:18:32</th>\n",
              "      <td>52.12</td>\n",
              "    </tr>\n",
              "    <tr>\n",
              "      <th>2019-01-03 19:51:01</th>\n",
              "      <td>19.90</td>\n",
              "    </tr>\n",
              "    <tr>\n",
              "      <th>2019-01-04 03:31:26</th>\n",
              "      <td>24.88</td>\n",
              "    </tr>\n",
              "    <tr>\n",
              "      <th>2019-01-06 07:38:40</th>\n",
              "      <td>47.33</td>\n",
              "    </tr>\n",
              "    <tr>\n",
              "      <th>...</th>\n",
              "      <th>...</th>\n",
              "      <td>...</td>\n",
              "    </tr>\n",
              "    <tr>\n",
              "      <th rowspan=\"5\" valign=\"top\">Urban</th>\n",
              "      <th>2019-05-08 04:20:00</th>\n",
              "      <td>21.99</td>\n",
              "    </tr>\n",
              "    <tr>\n",
              "      <th>2019-05-08 04:39:49</th>\n",
              "      <td>18.45</td>\n",
              "    </tr>\n",
              "    <tr>\n",
              "      <th>2019-05-08 07:29:01</th>\n",
              "      <td>18.55</td>\n",
              "    </tr>\n",
              "    <tr>\n",
              "      <th>2019-05-08 11:38:35</th>\n",
              "      <td>19.77</td>\n",
              "    </tr>\n",
              "    <tr>\n",
              "      <th>2019-05-08 13:10:18</th>\n",
              "      <td>18.04</td>\n",
              "    </tr>\n",
              "  </tbody>\n",
              "</table>\n",
              "<p>2375 rows × 1 columns</p>\n",
              "</div>"
            ],
            "text/plain": [
              "                            fare\n",
              "type  date                      \n",
              "Rural 2019-01-01 09:45:36  43.69\n",
              "      2019-01-02 11:18:32  52.12\n",
              "      2019-01-03 19:51:01  19.90\n",
              "      2019-01-04 03:31:26  24.88\n",
              "      2019-01-06 07:38:40  47.33\n",
              "...                          ...\n",
              "Urban 2019-05-08 04:20:00  21.99\n",
              "      2019-05-08 04:39:49  18.45\n",
              "      2019-05-08 07:29:01  18.55\n",
              "      2019-05-08 11:38:35  19.77\n",
              "      2019-05-08 13:10:18  18.04\n",
              "\n",
              "[2375 rows x 1 columns]"
            ]
          },
          "metadata": {
            "tags": []
          },
          "execution_count": 13
        }
      ]
    },
    {
      "cell_type": "code",
      "metadata": {
        "id": "mp_HCD-bee5f",
        "colab_type": "code",
        "colab": {
          "base_uri": "https://localhost:8080/",
          "height": 191
        },
        "outputId": "d734f452-50ea-4380-e230-376876394401"
      },
      "source": [
        "# 3. Reset the index on the DataFrame you created in #1. This is needed to use the 'pivot()' function.\n",
        "# df = df.reset_index()\n",
        "pyber_grouped_df = pyber_grouped_df.reset_index()\n",
        "pyber_grouped_df.head()"
      ],
      "execution_count": 14,
      "outputs": [
        {
          "output_type": "execute_result",
          "data": {
            "text/html": [
              "<div>\n",
              "<style scoped>\n",
              "    .dataframe tbody tr th:only-of-type {\n",
              "        vertical-align: middle;\n",
              "    }\n",
              "\n",
              "    .dataframe tbody tr th {\n",
              "        vertical-align: top;\n",
              "    }\n",
              "\n",
              "    .dataframe thead th {\n",
              "        text-align: right;\n",
              "    }\n",
              "</style>\n",
              "<table border=\"1\" class=\"dataframe\">\n",
              "  <thead>\n",
              "    <tr style=\"text-align: right;\">\n",
              "      <th></th>\n",
              "      <th>type</th>\n",
              "      <th>date</th>\n",
              "      <th>fare</th>\n",
              "    </tr>\n",
              "  </thead>\n",
              "  <tbody>\n",
              "    <tr>\n",
              "      <th>0</th>\n",
              "      <td>Rural</td>\n",
              "      <td>2019-01-01 09:45:36</td>\n",
              "      <td>43.69</td>\n",
              "    </tr>\n",
              "    <tr>\n",
              "      <th>1</th>\n",
              "      <td>Rural</td>\n",
              "      <td>2019-01-02 11:18:32</td>\n",
              "      <td>52.12</td>\n",
              "    </tr>\n",
              "    <tr>\n",
              "      <th>2</th>\n",
              "      <td>Rural</td>\n",
              "      <td>2019-01-03 19:51:01</td>\n",
              "      <td>19.90</td>\n",
              "    </tr>\n",
              "    <tr>\n",
              "      <th>3</th>\n",
              "      <td>Rural</td>\n",
              "      <td>2019-01-04 03:31:26</td>\n",
              "      <td>24.88</td>\n",
              "    </tr>\n",
              "    <tr>\n",
              "      <th>4</th>\n",
              "      <td>Rural</td>\n",
              "      <td>2019-01-06 07:38:40</td>\n",
              "      <td>47.33</td>\n",
              "    </tr>\n",
              "  </tbody>\n",
              "</table>\n",
              "</div>"
            ],
            "text/plain": [
              "    type                 date   fare\n",
              "0  Rural  2019-01-01 09:45:36  43.69\n",
              "1  Rural  2019-01-02 11:18:32  52.12\n",
              "2  Rural  2019-01-03 19:51:01  19.90\n",
              "3  Rural  2019-01-04 03:31:26  24.88\n",
              "4  Rural  2019-01-06 07:38:40  47.33"
            ]
          },
          "metadata": {
            "tags": []
          },
          "execution_count": 14
        }
      ]
    },
    {
      "cell_type": "code",
      "metadata": {
        "id": "jhKnf4Gjee5h",
        "colab_type": "code",
        "colab": {
          "base_uri": "https://localhost:8080/",
          "height": 131
        },
        "outputId": "523d4355-fd34-435c-de95-7d950ce2b62f"
      },
      "source": [
        "# 4. Create a pivot table with the 'date' as the index, the columns ='type', and values='fare' \n",
        "# to get the total fares for each type of city by the date. \n",
        "pyber_grouped_df = pyber_grouped_df.pivot(index = 'date', columns = 'type', values = 'fare')\n",
        "print(pyber_grouped_df.head())"
      ],
      "execution_count": 15,
      "outputs": [
        {
          "output_type": "stream",
          "text": [
            "type                 Rural  Suburban  Urban\n",
            "date                                       \n",
            "2019-01-01 00:08:16    NaN       NaN  37.91\n",
            "2019-01-01 00:46:46    NaN     47.74    NaN\n",
            "2019-01-01 02:07:24    NaN     24.07    NaN\n",
            "2019-01-01 03:46:50    NaN       NaN   7.57\n",
            "2019-01-01 05:23:21    NaN       NaN  10.75\n"
          ],
          "name": "stdout"
        }
      ]
    },
    {
      "cell_type": "code",
      "metadata": {
        "id": "lZN52aLTee5k",
        "colab_type": "code",
        "colab": {
          "base_uri": "https://localhost:8080/",
          "height": 420
        },
        "outputId": "e3268e1d-f3c5-46a1-ef66-5bb9c0890ba1"
      },
      "source": [
        "# 5. Create a new DataFrame from the pivot table DataFrame using loc on the given dates, '2019-01-01':'2019-04-29'.\n",
        "\n",
        "pyber_grouped_spring = pyber_grouped_df.loc[:'2019-04-29']\n",
        "pyber_grouped_spring\n"
      ],
      "execution_count": 16,
      "outputs": [
        {
          "output_type": "execute_result",
          "data": {
            "text/html": [
              "<div>\n",
              "<style scoped>\n",
              "    .dataframe tbody tr th:only-of-type {\n",
              "        vertical-align: middle;\n",
              "    }\n",
              "\n",
              "    .dataframe tbody tr th {\n",
              "        vertical-align: top;\n",
              "    }\n",
              "\n",
              "    .dataframe thead th {\n",
              "        text-align: right;\n",
              "    }\n",
              "</style>\n",
              "<table border=\"1\" class=\"dataframe\">\n",
              "  <thead>\n",
              "    <tr style=\"text-align: right;\">\n",
              "      <th>type</th>\n",
              "      <th>Rural</th>\n",
              "      <th>Suburban</th>\n",
              "      <th>Urban</th>\n",
              "    </tr>\n",
              "    <tr>\n",
              "      <th>date</th>\n",
              "      <th></th>\n",
              "      <th></th>\n",
              "      <th></th>\n",
              "    </tr>\n",
              "  </thead>\n",
              "  <tbody>\n",
              "    <tr>\n",
              "      <th>2019-01-01 00:08:16</th>\n",
              "      <td>NaN</td>\n",
              "      <td>NaN</td>\n",
              "      <td>37.91</td>\n",
              "    </tr>\n",
              "    <tr>\n",
              "      <th>2019-01-01 00:46:46</th>\n",
              "      <td>NaN</td>\n",
              "      <td>47.74</td>\n",
              "      <td>NaN</td>\n",
              "    </tr>\n",
              "    <tr>\n",
              "      <th>2019-01-01 02:07:24</th>\n",
              "      <td>NaN</td>\n",
              "      <td>24.07</td>\n",
              "      <td>NaN</td>\n",
              "    </tr>\n",
              "    <tr>\n",
              "      <th>2019-01-01 03:46:50</th>\n",
              "      <td>NaN</td>\n",
              "      <td>NaN</td>\n",
              "      <td>7.57</td>\n",
              "    </tr>\n",
              "    <tr>\n",
              "      <th>2019-01-01 05:23:21</th>\n",
              "      <td>NaN</td>\n",
              "      <td>NaN</td>\n",
              "      <td>10.75</td>\n",
              "    </tr>\n",
              "    <tr>\n",
              "      <th>...</th>\n",
              "      <td>...</td>\n",
              "      <td>...</td>\n",
              "      <td>...</td>\n",
              "    </tr>\n",
              "    <tr>\n",
              "      <th>2019-04-28 14:28:36</th>\n",
              "      <td>NaN</td>\n",
              "      <td>NaN</td>\n",
              "      <td>11.46</td>\n",
              "    </tr>\n",
              "    <tr>\n",
              "      <th>2019-04-28 16:29:16</th>\n",
              "      <td>NaN</td>\n",
              "      <td>NaN</td>\n",
              "      <td>36.42</td>\n",
              "    </tr>\n",
              "    <tr>\n",
              "      <th>2019-04-28 17:26:52</th>\n",
              "      <td>NaN</td>\n",
              "      <td>NaN</td>\n",
              "      <td>31.43</td>\n",
              "    </tr>\n",
              "    <tr>\n",
              "      <th>2019-04-28 17:38:09</th>\n",
              "      <td>NaN</td>\n",
              "      <td>34.87</td>\n",
              "      <td>NaN</td>\n",
              "    </tr>\n",
              "    <tr>\n",
              "      <th>2019-04-28 19:35:03</th>\n",
              "      <td>NaN</td>\n",
              "      <td>16.96</td>\n",
              "      <td>NaN</td>\n",
              "    </tr>\n",
              "  </tbody>\n",
              "</table>\n",
              "<p>2196 rows × 3 columns</p>\n",
              "</div>"
            ],
            "text/plain": [
              "type                 Rural  Suburban  Urban\n",
              "date                                       \n",
              "2019-01-01 00:08:16    NaN       NaN  37.91\n",
              "2019-01-01 00:46:46    NaN     47.74    NaN\n",
              "2019-01-01 02:07:24    NaN     24.07    NaN\n",
              "2019-01-01 03:46:50    NaN       NaN   7.57\n",
              "2019-01-01 05:23:21    NaN       NaN  10.75\n",
              "...                    ...       ...    ...\n",
              "2019-04-28 14:28:36    NaN       NaN  11.46\n",
              "2019-04-28 16:29:16    NaN       NaN  36.42\n",
              "2019-04-28 17:26:52    NaN       NaN  31.43\n",
              "2019-04-28 17:38:09    NaN     34.87    NaN\n",
              "2019-04-28 19:35:03    NaN     16.96    NaN\n",
              "\n",
              "[2196 rows x 3 columns]"
            ]
          },
          "metadata": {
            "tags": []
          },
          "execution_count": 16
        }
      ]
    },
    {
      "cell_type": "code",
      "metadata": {
        "id": "BAwZhJoqee5n",
        "colab_type": "code",
        "colab": {
          "base_uri": "https://localhost:8080/",
          "height": 220
        },
        "outputId": "eee194e9-ffee-4bf1-b087-7de9305884e5"
      },
      "source": [
        "# 6. Set the \"date\" index to datetime datatype. This is necessary to use the resample() method in Step 8.\n",
        "# df.index = pd.to_datetime(df.index)\n",
        "pyber_grouped_spring.index = pd.to_datetime(pyber_grouped_spring.index)\n",
        "pyber_grouped_spring.head()"
      ],
      "execution_count": 17,
      "outputs": [
        {
          "output_type": "execute_result",
          "data": {
            "text/html": [
              "<div>\n",
              "<style scoped>\n",
              "    .dataframe tbody tr th:only-of-type {\n",
              "        vertical-align: middle;\n",
              "    }\n",
              "\n",
              "    .dataframe tbody tr th {\n",
              "        vertical-align: top;\n",
              "    }\n",
              "\n",
              "    .dataframe thead th {\n",
              "        text-align: right;\n",
              "    }\n",
              "</style>\n",
              "<table border=\"1\" class=\"dataframe\">\n",
              "  <thead>\n",
              "    <tr style=\"text-align: right;\">\n",
              "      <th>type</th>\n",
              "      <th>Rural</th>\n",
              "      <th>Suburban</th>\n",
              "      <th>Urban</th>\n",
              "    </tr>\n",
              "    <tr>\n",
              "      <th>date</th>\n",
              "      <th></th>\n",
              "      <th></th>\n",
              "      <th></th>\n",
              "    </tr>\n",
              "  </thead>\n",
              "  <tbody>\n",
              "    <tr>\n",
              "      <th>2019-01-01 00:08:16</th>\n",
              "      <td>NaN</td>\n",
              "      <td>NaN</td>\n",
              "      <td>37.91</td>\n",
              "    </tr>\n",
              "    <tr>\n",
              "      <th>2019-01-01 00:46:46</th>\n",
              "      <td>NaN</td>\n",
              "      <td>47.74</td>\n",
              "      <td>NaN</td>\n",
              "    </tr>\n",
              "    <tr>\n",
              "      <th>2019-01-01 02:07:24</th>\n",
              "      <td>NaN</td>\n",
              "      <td>24.07</td>\n",
              "      <td>NaN</td>\n",
              "    </tr>\n",
              "    <tr>\n",
              "      <th>2019-01-01 03:46:50</th>\n",
              "      <td>NaN</td>\n",
              "      <td>NaN</td>\n",
              "      <td>7.57</td>\n",
              "    </tr>\n",
              "    <tr>\n",
              "      <th>2019-01-01 05:23:21</th>\n",
              "      <td>NaN</td>\n",
              "      <td>NaN</td>\n",
              "      <td>10.75</td>\n",
              "    </tr>\n",
              "  </tbody>\n",
              "</table>\n",
              "</div>"
            ],
            "text/plain": [
              "type                 Rural  Suburban  Urban\n",
              "date                                       \n",
              "2019-01-01 00:08:16    NaN       NaN  37.91\n",
              "2019-01-01 00:46:46    NaN     47.74    NaN\n",
              "2019-01-01 02:07:24    NaN     24.07    NaN\n",
              "2019-01-01 03:46:50    NaN       NaN   7.57\n",
              "2019-01-01 05:23:21    NaN       NaN  10.75"
            ]
          },
          "metadata": {
            "tags": []
          },
          "execution_count": 17
        }
      ]
    },
    {
      "cell_type": "code",
      "metadata": {
        "id": "Oy-lfv7Pee5p",
        "colab_type": "code",
        "colab": {
          "base_uri": "https://localhost:8080/",
          "height": 180
        },
        "outputId": "3bdf99bc-73c5-44d7-d477-a416c0cfbace"
      },
      "source": [
        "# 7. Check that the datatype for the index is datetime using df.info()\n",
        "pyber_grouped_spring.info()"
      ],
      "execution_count": 18,
      "outputs": [
        {
          "output_type": "stream",
          "text": [
            "<class 'pandas.core.frame.DataFrame'>\n",
            "DatetimeIndex: 2196 entries, 2019-01-01 00:08:16 to 2019-04-28 19:35:03\n",
            "Data columns (total 3 columns):\n",
            " #   Column    Non-Null Count  Dtype  \n",
            "---  ------    --------------  -----  \n",
            " 0   Rural     114 non-null    float64\n",
            " 1   Suburban  573 non-null    float64\n",
            " 2   Urban     1509 non-null   float64\n",
            "dtypes: float64(3)\n",
            "memory usage: 68.6 KB\n"
          ],
          "name": "stdout"
        }
      ]
    },
    {
      "cell_type": "code",
      "metadata": {
        "id": "O8JHqbmwee5s",
        "colab_type": "code",
        "colab": {
          "base_uri": "https://localhost:8080/",
          "height": 220
        },
        "outputId": "28feb21d-b56a-4108-8d45-98fc2ff31a5e"
      },
      "source": [
        "# 8. Create a new DataFrame using the \"resample()\" function by week 'W' and get the sum of the fares for each week.\n",
        "pyber_grouped_week = pyber_grouped_spring.resample('W').sum()\n",
        "pyber_grouped_week.head()"
      ],
      "execution_count": 19,
      "outputs": [
        {
          "output_type": "execute_result",
          "data": {
            "text/html": [
              "<div>\n",
              "<style scoped>\n",
              "    .dataframe tbody tr th:only-of-type {\n",
              "        vertical-align: middle;\n",
              "    }\n",
              "\n",
              "    .dataframe tbody tr th {\n",
              "        vertical-align: top;\n",
              "    }\n",
              "\n",
              "    .dataframe thead th {\n",
              "        text-align: right;\n",
              "    }\n",
              "</style>\n",
              "<table border=\"1\" class=\"dataframe\">\n",
              "  <thead>\n",
              "    <tr style=\"text-align: right;\">\n",
              "      <th>type</th>\n",
              "      <th>Rural</th>\n",
              "      <th>Suburban</th>\n",
              "      <th>Urban</th>\n",
              "    </tr>\n",
              "    <tr>\n",
              "      <th>date</th>\n",
              "      <th></th>\n",
              "      <th></th>\n",
              "      <th></th>\n",
              "    </tr>\n",
              "  </thead>\n",
              "  <tbody>\n",
              "    <tr>\n",
              "      <th>2019-01-06</th>\n",
              "      <td>187.92</td>\n",
              "      <td>721.60</td>\n",
              "      <td>1661.68</td>\n",
              "    </tr>\n",
              "    <tr>\n",
              "      <th>2019-01-13</th>\n",
              "      <td>67.65</td>\n",
              "      <td>1105.13</td>\n",
              "      <td>2050.43</td>\n",
              "    </tr>\n",
              "    <tr>\n",
              "      <th>2019-01-20</th>\n",
              "      <td>306.00</td>\n",
              "      <td>1218.20</td>\n",
              "      <td>1939.02</td>\n",
              "    </tr>\n",
              "    <tr>\n",
              "      <th>2019-01-27</th>\n",
              "      <td>179.69</td>\n",
              "      <td>1203.28</td>\n",
              "      <td>2129.51</td>\n",
              "    </tr>\n",
              "    <tr>\n",
              "      <th>2019-02-03</th>\n",
              "      <td>333.08</td>\n",
              "      <td>1042.79</td>\n",
              "      <td>2086.94</td>\n",
              "    </tr>\n",
              "  </tbody>\n",
              "</table>\n",
              "</div>"
            ],
            "text/plain": [
              "type         Rural  Suburban    Urban\n",
              "date                                 \n",
              "2019-01-06  187.92    721.60  1661.68\n",
              "2019-01-13   67.65   1105.13  2050.43\n",
              "2019-01-20  306.00   1218.20  1939.02\n",
              "2019-01-27  179.69   1203.28  2129.51\n",
              "2019-02-03  333.08   1042.79  2086.94"
            ]
          },
          "metadata": {
            "tags": []
          },
          "execution_count": 19
        }
      ]
    },
    {
      "cell_type": "code",
      "metadata": {
        "id": "uBQ7gKF8ee5v",
        "colab_type": "code",
        "colab": {
          "base_uri": "https://localhost:8080/",
          "height": 457
        },
        "outputId": "17b90faf-ecc3-4e36-c2dd-9af2ce50695d"
      },
      "source": [
        "# 8. Using the object-oriented interface method, plot the resample DataFrame using the df.plot() function. \n",
        "\n",
        "pyber_grouped_week.plot(figsize=(18,6), title='Total Fare by City Type')\n",
        "# plt.title('Total Fare by City Type')\n",
        "\n",
        "# Import the style from Matplotlib.\n",
        "from matplotlib import style\n",
        "# Use the graph style fivethirtyeight.\n",
        "style.use('fivethirtyeight')\n"
      ],
      "execution_count": 31,
      "outputs": [
        {
          "output_type": "display_data",
          "data": {
            "image/png": "[encoded data removed]",
            "text/plain": [
              "<Figure size 1296x432 with 1 Axes>"
            ]
          },
          "metadata": {
            "tags": []
          }
        }
      ]
    },
    {
      "cell_type": "code",
      "metadata": {
        "id": "Zb_skK7Cee5z",
        "colab_type": "code",
        "colab": {}
      },
      "source": [
        "\n"
      ],
      "execution_count": 20,
      "outputs": []
    }
  ]
}