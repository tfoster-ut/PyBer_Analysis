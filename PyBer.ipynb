{
  "nbformat": 4,
  "nbformat_minor": 0,
  "metadata": {
    "colab": {
      "name": "PyBer.ipynb",
      "provenance": [],
      "collapsed_sections": []
    },
    "kernelspec": {
      "name": "python3",
      "display_name": "Python 3"
    }
  },
  "cells": [
    {
      "cell_type": "code",
      "metadata": {
        "id": "iCyuXTPKWuYe",
        "colab_type": "code",
        "colab": {}
      },
      "source": [
        "%matplotlib inline\n",
        "\n",
        "# Import dependencies\n",
        "import pandas as pd\n",
        "import numpy as np\n",
        "import matplotlib.pyplot as plt\n"
      ],
      "execution_count": 1,
      "outputs": []
    },
    {
      "cell_type": "code",
      "metadata": {
        "id": "XsmahPQjXozL",
        "colab_type": "code",
        "colab": {}
      },
      "source": [
        "# Import data \n",
        "city_data_to_load = '/content/drive/My Drive/Colab Notebooks/PyBer_Analysis/Resources/city_data.csv'\n",
        "ride_data_to_load = '/content/drive/My Drive/Colab Notebooks/PyBer_Analysis/Resources/ride_data.csv'"
      ],
      "execution_count": 2,
      "outputs": []
    },
    {
      "cell_type": "code",
      "metadata": {
        "id": "SQhggRMkXpOx",
        "colab_type": "code",
        "colab": {
          "base_uri": "https://localhost:8080/",
          "height": 191
        },
        "outputId": "adb1712c-5a8c-4990-ac78-79996f6d5d07"
      },
      "source": [
        "city_data_df = pd.read_csv(city_data_to_load)\n",
        "city_data_df.head()"
      ],
      "execution_count": 3,
      "outputs": [
        {
          "output_type": "execute_result",
          "data": {
            "text/html": [
              "<div>\n",
              "<style scoped>\n",
              "    .dataframe tbody tr th:only-of-type {\n",
              "        vertical-align: middle;\n",
              "    }\n",
              "\n",
              "    .dataframe tbody tr th {\n",
              "        vertical-align: top;\n",
              "    }\n",
              "\n",
              "    .dataframe thead th {\n",
              "        text-align: right;\n",
              "    }\n",
              "</style>\n",
              "<table border=\"1\" class=\"dataframe\">\n",
              "  <thead>\n",
              "    <tr style=\"text-align: right;\">\n",
              "      <th></th>\n",
              "      <th>city</th>\n",
              "      <th>driver_count</th>\n",
              "      <th>type</th>\n",
              "    </tr>\n",
              "  </thead>\n",
              "  <tbody>\n",
              "    <tr>\n",
              "      <th>0</th>\n",
              "      <td>Richardfort</td>\n",
              "      <td>38</td>\n",
              "      <td>Urban</td>\n",
              "    </tr>\n",
              "    <tr>\n",
              "      <th>1</th>\n",
              "      <td>Williamsstad</td>\n",
              "      <td>59</td>\n",
              "      <td>Urban</td>\n",
              "    </tr>\n",
              "    <tr>\n",
              "      <th>2</th>\n",
              "      <td>Port Angela</td>\n",
              "      <td>67</td>\n",
              "      <td>Urban</td>\n",
              "    </tr>\n",
              "    <tr>\n",
              "      <th>3</th>\n",
              "      <td>Rodneyfort</td>\n",
              "      <td>34</td>\n",
              "      <td>Urban</td>\n",
              "    </tr>\n",
              "    <tr>\n",
              "      <th>4</th>\n",
              "      <td>West Robert</td>\n",
              "      <td>39</td>\n",
              "      <td>Urban</td>\n",
              "    </tr>\n",
              "  </tbody>\n",
              "</table>\n",
              "</div>"
            ],
            "text/plain": [
              "           city  driver_count   type\n",
              "0   Richardfort            38  Urban\n",
              "1  Williamsstad            59  Urban\n",
              "2   Port Angela            67  Urban\n",
              "3    Rodneyfort            34  Urban\n",
              "4   West Robert            39  Urban"
            ]
          },
          "metadata": {
            "tags": []
          },
          "execution_count": 3
        }
      ]
    },
    {
      "cell_type": "code",
      "metadata": {
        "id": "7BRAr-yhX38O",
        "colab_type": "code",
        "colab": {
          "base_uri": "https://localhost:8080/",
          "height": 191
        },
        "outputId": "8872f597-6e0f-468a-dbdf-17822935100c"
      },
      "source": [
        "ride_data_df = pd.read_csv(ride_data_to_load)\n",
        "ride_data_df.head()"
      ],
      "execution_count": 4,
      "outputs": [
        {
          "output_type": "execute_result",
          "data": {
            "text/html": [
              "<div>\n",
              "<style scoped>\n",
              "    .dataframe tbody tr th:only-of-type {\n",
              "        vertical-align: middle;\n",
              "    }\n",
              "\n",
              "    .dataframe tbody tr th {\n",
              "        vertical-align: top;\n",
              "    }\n",
              "\n",
              "    .dataframe thead th {\n",
              "        text-align: right;\n",
              "    }\n",
              "</style>\n",
              "<table border=\"1\" class=\"dataframe\">\n",
              "  <thead>\n",
              "    <tr style=\"text-align: right;\">\n",
              "      <th></th>\n",
              "      <th>city</th>\n",
              "      <th>date</th>\n",
              "      <th>fare</th>\n",
              "      <th>ride_id</th>\n",
              "    </tr>\n",
              "  </thead>\n",
              "  <tbody>\n",
              "    <tr>\n",
              "      <th>0</th>\n",
              "      <td>Lake Jonathanshire</td>\n",
              "      <td>2019-01-14 10:14:22</td>\n",
              "      <td>13.83</td>\n",
              "      <td>5739410935873</td>\n",
              "    </tr>\n",
              "    <tr>\n",
              "      <th>1</th>\n",
              "      <td>South Michelleport</td>\n",
              "      <td>2019-03-04 18:24:09</td>\n",
              "      <td>30.24</td>\n",
              "      <td>2343912425577</td>\n",
              "    </tr>\n",
              "    <tr>\n",
              "      <th>2</th>\n",
              "      <td>Port Samanthamouth</td>\n",
              "      <td>2019-02-24 04:29:00</td>\n",
              "      <td>33.44</td>\n",
              "      <td>2005065760003</td>\n",
              "    </tr>\n",
              "    <tr>\n",
              "      <th>3</th>\n",
              "      <td>Rodneyfort</td>\n",
              "      <td>2019-02-10 23:22:03</td>\n",
              "      <td>23.44</td>\n",
              "      <td>5149245426178</td>\n",
              "    </tr>\n",
              "    <tr>\n",
              "      <th>4</th>\n",
              "      <td>South Jack</td>\n",
              "      <td>2019-03-06 04:28:35</td>\n",
              "      <td>34.58</td>\n",
              "      <td>3908451377344</td>\n",
              "    </tr>\n",
              "  </tbody>\n",
              "</table>\n",
              "</div>"
            ],
            "text/plain": [
              "                 city                 date   fare        ride_id\n",
              "0  Lake Jonathanshire  2019-01-14 10:14:22  13.83  5739410935873\n",
              "1  South Michelleport  2019-03-04 18:24:09  30.24  2343912425577\n",
              "2  Port Samanthamouth  2019-02-24 04:29:00  33.44  2005065760003\n",
              "3          Rodneyfort  2019-02-10 23:22:03  23.44  5149245426178\n",
              "4          South Jack  2019-03-06 04:28:35  34.58  3908451377344"
            ]
          },
          "metadata": {
            "tags": []
          },
          "execution_count": 4
        }
      ]
    },
    {
      "cell_type": "code",
      "metadata": {
        "id": "kmL9avMtYFOo",
        "colab_type": "code",
        "colab": {
          "base_uri": "https://localhost:8080/",
          "height": 82
        },
        "outputId": "31900063-6d26-404e-ec69-a6aa0b6eb536"
      },
      "source": [
        "# Get the columns and rows that are not null\n",
        "city_data_df.isnull().sum()"
      ],
      "execution_count": 5,
      "outputs": [
        {
          "output_type": "execute_result",
          "data": {
            "text/plain": [
              "city            0\n",
              "driver_count    0\n",
              "type            0\n",
              "dtype: int64"
            ]
          },
          "metadata": {
            "tags": []
          },
          "execution_count": 5
        }
      ]
    },
    {
      "cell_type": "code",
      "metadata": {
        "id": "Cqqov1thYi9S",
        "colab_type": "code",
        "colab": {
          "base_uri": "https://localhost:8080/",
          "height": 82
        },
        "outputId": "e3740265-5850-458c-e3f0-2e80e38c044f"
      },
      "source": [
        "# Get the data types for each column\n",
        "city_data_df.dtypes"
      ],
      "execution_count": 6,
      "outputs": [
        {
          "output_type": "execute_result",
          "data": {
            "text/plain": [
              "city            object\n",
              "driver_count     int64\n",
              "type            object\n",
              "dtype: object"
            ]
          },
          "metadata": {
            "tags": []
          },
          "execution_count": 6
        }
      ]
    },
    {
      "cell_type": "code",
      "metadata": {
        "id": "qcbhUou2ZLiL",
        "colab_type": "code",
        "colab": {
          "base_uri": "https://localhost:8080/",
          "height": 33
        },
        "outputId": "9e1439af-fe5b-42aa-eff8-d5dc87f5004a"
      },
      "source": [
        "# Get the unique values of the type of city\n",
        "city_data_df['type'].unique()"
      ],
      "execution_count": 7,
      "outputs": [
        {
          "output_type": "execute_result",
          "data": {
            "text/plain": [
              "array(['Urban', 'Suburban', 'Rural'], dtype=object)"
            ]
          },
          "metadata": {
            "tags": []
          },
          "execution_count": 7
        }
      ]
    },
    {
      "cell_type": "code",
      "metadata": {
        "id": "AtOPRF1VZclj",
        "colab_type": "code",
        "colab": {
          "base_uri": "https://localhost:8080/",
          "height": 33
        },
        "outputId": "ecb2b820-6016-4180-807b-ecb50afd0745"
      },
      "source": [
        "# Get the number of data points from urban cities\n",
        "sum(city_data_df['type'] == 'Rural')"
      ],
      "execution_count": 8,
      "outputs": [
        {
          "output_type": "execute_result",
          "data": {
            "text/plain": [
              "18"
            ]
          },
          "metadata": {
            "tags": []
          },
          "execution_count": 8
        }
      ]
    },
    {
      "cell_type": "code",
      "metadata": {
        "id": "CR8WT8q1Z7YV",
        "colab_type": "code",
        "colab": {
          "base_uri": "https://localhost:8080/",
          "height": 98
        },
        "outputId": "9bbf1901-5ae7-4a48-810f-dff38f8639eb"
      },
      "source": [
        "# Get the columns and rows that are not null\n",
        "ride_data_df.isnull().sum()"
      ],
      "execution_count": 9,
      "outputs": [
        {
          "output_type": "execute_result",
          "data": {
            "text/plain": [
              "city       0\n",
              "date       0\n",
              "fare       0\n",
              "ride_id    0\n",
              "dtype: int64"
            ]
          },
          "metadata": {
            "tags": []
          },
          "execution_count": 9
        }
      ]
    },
    {
      "cell_type": "code",
      "metadata": {
        "id": "9r11ZAFyuGjs",
        "colab_type": "code",
        "colab": {
          "base_uri": "https://localhost:8080/",
          "height": 98
        },
        "outputId": "f2e50a3c-8a2c-4af9-d8ac-99b0fd515b90"
      },
      "source": [
        "# Get the data types for each column\n",
        "ride_data_df.dtypes"
      ],
      "execution_count": 10,
      "outputs": [
        {
          "output_type": "execute_result",
          "data": {
            "text/plain": [
              "city        object\n",
              "date        object\n",
              "fare       float64\n",
              "ride_id      int64\n",
              "dtype: object"
            ]
          },
          "metadata": {
            "tags": []
          },
          "execution_count": 10
        }
      ]
    },
    {
      "cell_type": "code",
      "metadata": {
        "id": "J72APsn3uL9w",
        "colab_type": "code",
        "colab": {
          "base_uri": "https://localhost:8080/",
          "height": 191
        },
        "outputId": "231d873c-53d8-4ee7-fce9-d55ad41d7ade"
      },
      "source": [
        "# Merge DataFrames\n",
        "pyber_complete_df = pd.merge(ride_data_df, city_data_df, how='left', on=['city', 'city'])\n",
        "pyber_complete_df.head()"
      ],
      "execution_count": 11,
      "outputs": [
        {
          "output_type": "execute_result",
          "data": {
            "text/html": [
              "<div>\n",
              "<style scoped>\n",
              "    .dataframe tbody tr th:only-of-type {\n",
              "        vertical-align: middle;\n",
              "    }\n",
              "\n",
              "    .dataframe tbody tr th {\n",
              "        vertical-align: top;\n",
              "    }\n",
              "\n",
              "    .dataframe thead th {\n",
              "        text-align: right;\n",
              "    }\n",
              "</style>\n",
              "<table border=\"1\" class=\"dataframe\">\n",
              "  <thead>\n",
              "    <tr style=\"text-align: right;\">\n",
              "      <th></th>\n",
              "      <th>city</th>\n",
              "      <th>date</th>\n",
              "      <th>fare</th>\n",
              "      <th>ride_id</th>\n",
              "      <th>driver_count</th>\n",
              "      <th>type</th>\n",
              "    </tr>\n",
              "  </thead>\n",
              "  <tbody>\n",
              "    <tr>\n",
              "      <th>0</th>\n",
              "      <td>Lake Jonathanshire</td>\n",
              "      <td>2019-01-14 10:14:22</td>\n",
              "      <td>13.83</td>\n",
              "      <td>5739410935873</td>\n",
              "      <td>5</td>\n",
              "      <td>Urban</td>\n",
              "    </tr>\n",
              "    <tr>\n",
              "      <th>1</th>\n",
              "      <td>South Michelleport</td>\n",
              "      <td>2019-03-04 18:24:09</td>\n",
              "      <td>30.24</td>\n",
              "      <td>2343912425577</td>\n",
              "      <td>72</td>\n",
              "      <td>Urban</td>\n",
              "    </tr>\n",
              "    <tr>\n",
              "      <th>2</th>\n",
              "      <td>Port Samanthamouth</td>\n",
              "      <td>2019-02-24 04:29:00</td>\n",
              "      <td>33.44</td>\n",
              "      <td>2005065760003</td>\n",
              "      <td>57</td>\n",
              "      <td>Urban</td>\n",
              "    </tr>\n",
              "    <tr>\n",
              "      <th>3</th>\n",
              "      <td>Rodneyfort</td>\n",
              "      <td>2019-02-10 23:22:03</td>\n",
              "      <td>23.44</td>\n",
              "      <td>5149245426178</td>\n",
              "      <td>34</td>\n",
              "      <td>Urban</td>\n",
              "    </tr>\n",
              "    <tr>\n",
              "      <th>4</th>\n",
              "      <td>South Jack</td>\n",
              "      <td>2019-03-06 04:28:35</td>\n",
              "      <td>34.58</td>\n",
              "      <td>3908451377344</td>\n",
              "      <td>46</td>\n",
              "      <td>Urban</td>\n",
              "    </tr>\n",
              "  </tbody>\n",
              "</table>\n",
              "</div>"
            ],
            "text/plain": [
              "                 city                 date  ...  driver_count   type\n",
              "0  Lake Jonathanshire  2019-01-14 10:14:22  ...             5  Urban\n",
              "1  South Michelleport  2019-03-04 18:24:09  ...            72  Urban\n",
              "2  Port Samanthamouth  2019-02-24 04:29:00  ...            57  Urban\n",
              "3          Rodneyfort  2019-02-10 23:22:03  ...            34  Urban\n",
              "4          South Jack  2019-03-06 04:28:35  ...            46  Urban\n",
              "\n",
              "[5 rows x 6 columns]"
            ]
          },
          "metadata": {
            "tags": []
          },
          "execution_count": 11
        }
      ]
    },
    {
      "cell_type": "code",
      "metadata": {
        "id": "DRd_YsWBvVJ5",
        "colab_type": "code",
        "colab": {
          "base_uri": "https://localhost:8080/",
          "height": 191
        },
        "outputId": "f9b540df-02e4-4df9-c02c-bd981ff18cb3"
      },
      "source": [
        "# Create DF for Urban cities\n",
        "urban_cities_df = pyber_complete_df[pyber_complete_df['type'] == 'Urban']\n",
        "urban_cities_df.head()"
      ],
      "execution_count": 12,
      "outputs": [
        {
          "output_type": "execute_result",
          "data": {
            "text/html": [
              "<div>\n",
              "<style scoped>\n",
              "    .dataframe tbody tr th:only-of-type {\n",
              "        vertical-align: middle;\n",
              "    }\n",
              "\n",
              "    .dataframe tbody tr th {\n",
              "        vertical-align: top;\n",
              "    }\n",
              "\n",
              "    .dataframe thead th {\n",
              "        text-align: right;\n",
              "    }\n",
              "</style>\n",
              "<table border=\"1\" class=\"dataframe\">\n",
              "  <thead>\n",
              "    <tr style=\"text-align: right;\">\n",
              "      <th></th>\n",
              "      <th>city</th>\n",
              "      <th>date</th>\n",
              "      <th>fare</th>\n",
              "      <th>ride_id</th>\n",
              "      <th>driver_count</th>\n",
              "      <th>type</th>\n",
              "    </tr>\n",
              "  </thead>\n",
              "  <tbody>\n",
              "    <tr>\n",
              "      <th>0</th>\n",
              "      <td>Lake Jonathanshire</td>\n",
              "      <td>2019-01-14 10:14:22</td>\n",
              "      <td>13.83</td>\n",
              "      <td>5739410935873</td>\n",
              "      <td>5</td>\n",
              "      <td>Urban</td>\n",
              "    </tr>\n",
              "    <tr>\n",
              "      <th>1</th>\n",
              "      <td>South Michelleport</td>\n",
              "      <td>2019-03-04 18:24:09</td>\n",
              "      <td>30.24</td>\n",
              "      <td>2343912425577</td>\n",
              "      <td>72</td>\n",
              "      <td>Urban</td>\n",
              "    </tr>\n",
              "    <tr>\n",
              "      <th>2</th>\n",
              "      <td>Port Samanthamouth</td>\n",
              "      <td>2019-02-24 04:29:00</td>\n",
              "      <td>33.44</td>\n",
              "      <td>2005065760003</td>\n",
              "      <td>57</td>\n",
              "      <td>Urban</td>\n",
              "    </tr>\n",
              "    <tr>\n",
              "      <th>3</th>\n",
              "      <td>Rodneyfort</td>\n",
              "      <td>2019-02-10 23:22:03</td>\n",
              "      <td>23.44</td>\n",
              "      <td>5149245426178</td>\n",
              "      <td>34</td>\n",
              "      <td>Urban</td>\n",
              "    </tr>\n",
              "    <tr>\n",
              "      <th>4</th>\n",
              "      <td>South Jack</td>\n",
              "      <td>2019-03-06 04:28:35</td>\n",
              "      <td>34.58</td>\n",
              "      <td>3908451377344</td>\n",
              "      <td>46</td>\n",
              "      <td>Urban</td>\n",
              "    </tr>\n",
              "  </tbody>\n",
              "</table>\n",
              "</div>"
            ],
            "text/plain": [
              "                 city                 date  ...  driver_count   type\n",
              "0  Lake Jonathanshire  2019-01-14 10:14:22  ...             5  Urban\n",
              "1  South Michelleport  2019-03-04 18:24:09  ...            72  Urban\n",
              "2  Port Samanthamouth  2019-02-24 04:29:00  ...            57  Urban\n",
              "3          Rodneyfort  2019-02-10 23:22:03  ...            34  Urban\n",
              "4          South Jack  2019-03-06 04:28:35  ...            46  Urban\n",
              "\n",
              "[5 rows x 6 columns]"
            ]
          },
          "metadata": {
            "tags": []
          },
          "execution_count": 12
        }
      ]
    },
    {
      "cell_type": "code",
      "metadata": {
        "id": "FspqCm1pxYmn",
        "colab_type": "code",
        "colab": {
          "base_uri": "https://localhost:8080/",
          "height": 277
        },
        "outputId": "f8dafe04-ea30-47c0-9817-e3c2120e3ec3"
      },
      "source": [
        "# Create DF's for Suburban and Rural\n",
        "suburban_cities_df = pyber_complete_df[pyber_complete_df['type'] == 'Suburban']\n",
        "rural_cities_df = pyber_complete_df[pyber_complete_df['type'] == 'Rural']\n",
        "print(suburban_cities_df.head())\n",
        "print(rural_cities_df.head())"
      ],
      "execution_count": 13,
      "outputs": [
        {
          "output_type": "stream",
          "text": [
            "               city                 date  ...  driver_count      type\n",
            "1625  Barronchester  2019-01-27 03:08:01  ...            11  Suburban\n",
            "1626  East Kentstad  2019-04-07 19:44:19  ...            20  Suburban\n",
            "1627      Lake Omar  2019-01-17 21:33:35  ...            22  Suburban\n",
            "1628     Myersshire  2019-02-27 17:38:39  ...            19  Suburban\n",
            "1629    West Hannah  2019-04-19 01:06:59  ...            12  Suburban\n",
            "\n",
            "[5 rows x 6 columns]\n",
            "                 city                 date  ...  driver_count   type\n",
            "2250   Randallchester  2019-04-13 11:13:31  ...             9  Rural\n",
            "2251      North Holly  2019-02-02 14:54:00  ...             8  Rural\n",
            "2252      Michaelberg  2019-03-27 18:27:34  ...             6  Rural\n",
            "2253  Lake Latoyabury  2019-02-23 21:12:24  ...             2  Rural\n",
            "2254  Lake Latoyabury  2019-05-06 08:57:56  ...             2  Rural\n",
            "\n",
            "[5 rows x 6 columns]\n"
          ],
          "name": "stdout"
        }
      ]
    },
    {
      "cell_type": "code",
      "metadata": {
        "id": "_AT684rAyMKB",
        "colab_type": "code",
        "colab": {
          "base_uri": "https://localhost:8080/",
          "height": 131
        },
        "outputId": "ec9abdd3-6489-4670-b948-d83c93d6e336"
      },
      "source": [
        "# Create ride count by city type\n",
        "urban_ride_count = urban_cities_df.groupby(['city']).count()['ride_id']\n",
        "urban_ride_count.head()"
      ],
      "execution_count": 14,
      "outputs": [
        {
          "output_type": "execute_result",
          "data": {
            "text/plain": [
              "city\n",
              "Amandaburgh        18\n",
              "Barajasview        22\n",
              "Carriemouth        27\n",
              "Christopherfurt    27\n",
              "Deanville          19\n",
              "Name: ride_id, dtype: int64"
            ]
          },
          "metadata": {
            "tags": []
          },
          "execution_count": 14
        }
      ]
    },
    {
      "cell_type": "code",
      "metadata": {
        "id": "Ev3Q55UCynnP",
        "colab_type": "code",
        "colab": {
          "base_uri": "https://localhost:8080/",
          "height": 245
        },
        "outputId": "6072a07c-d01b-4264-92bf-9057ed6404d3"
      },
      "source": [
        "# Create ride count by city type\n",
        "suburban_ride_count = suburban_cities_df.groupby(['city']).count()['ride_id']\n",
        "rural_ride_count = rural_cities_df.groupby(['city']).count()['ride_id']\n",
        "print(suburban_ride_count.head())\n",
        "print(rural_ride_count.head())"
      ],
      "execution_count": 15,
      "outputs": [
        {
          "output_type": "stream",
          "text": [
            "city\n",
            "Barronchester    16\n",
            "Bethanyland      18\n",
            "Brandonfort      19\n",
            "Colemanland      22\n",
            "Davidfurt        17\n",
            "Name: ride_id, dtype: int64\n",
            "city\n",
            "Bradshawfurt      10\n",
            "Garzaport          3\n",
            "Harringtonfort     6\n",
            "Jessicaport        6\n",
            "Lake Jamie         6\n",
            "Name: ride_id, dtype: int64\n"
          ],
          "name": "stdout"
        }
      ]
    },
    {
      "cell_type": "code",
      "metadata": {
        "id": "V2VtBxAOzzVb",
        "colab_type": "code",
        "colab": {
          "base_uri": "https://localhost:8080/",
          "height": 131
        },
        "outputId": "a230a58f-4a2c-4718-e010-fe4c68910e02"
      },
      "source": [
        "# Get the average fare for each city in the urban cities\n",
        "urban_avg_fare = urban_cities_df.groupby(['city']).mean()['fare']\n",
        "urban_avg_fare.head()"
      ],
      "execution_count": 16,
      "outputs": [
        {
          "output_type": "execute_result",
          "data": {
            "text/plain": [
              "city\n",
              "Amandaburgh        24.641667\n",
              "Barajasview        25.332273\n",
              "Carriemouth        28.314444\n",
              "Christopherfurt    24.501852\n",
              "Deanville          25.842632\n",
              "Name: fare, dtype: float64"
            ]
          },
          "metadata": {
            "tags": []
          },
          "execution_count": 16
        }
      ]
    },
    {
      "cell_type": "code",
      "metadata": {
        "id": "7UGiLBaW0ku2",
        "colab_type": "code",
        "colab": {
          "base_uri": "https://localhost:8080/",
          "height": 245
        },
        "outputId": "0c002a6e-d225-440f-bd55-66abf3c576c6"
      },
      "source": [
        "# Get the average fare for each city in suburban and rural cities\n",
        "suburban_avg_fare = suburban_cities_df.groupby(['city']).mean()['fare']\n",
        "rural_avg_fare = rural_cities_df.groupby(['city']).mean()['fare']\n",
        "print(suburban_avg_fare.head())\n",
        "print(rural_avg_fare.head())"
      ],
      "execution_count": 17,
      "outputs": [
        {
          "output_type": "stream",
          "text": [
            "city\n",
            "Barronchester    36.422500\n",
            "Bethanyland      32.956111\n",
            "Brandonfort      35.437368\n",
            "Colemanland      30.894545\n",
            "Davidfurt        31.995882\n",
            "Name: fare, dtype: float64\n",
            "city\n",
            "Bradshawfurt      40.064000\n",
            "Garzaport         24.123333\n",
            "Harringtonfort    33.470000\n",
            "Jessicaport       36.013333\n",
            "Lake Jamie        34.358333\n",
            "Name: fare, dtype: float64\n"
          ],
          "name": "stdout"
        }
      ]
    },
    {
      "cell_type": "code",
      "metadata": {
        "id": "LmPOG77Z1X4K",
        "colab_type": "code",
        "colab": {
          "base_uri": "https://localhost:8080/",
          "height": 131
        },
        "outputId": "435c9c92-c8f4-42d4-b86a-9b608e635ee8"
      },
      "source": [
        "# Get the average number of drivers for each urban city\n",
        "urban_driver_count = urban_cities_df.groupby(['city']).mean()['driver_count']\n",
        "urban_driver_count.head()"
      ],
      "execution_count": 18,
      "outputs": [
        {
          "output_type": "execute_result",
          "data": {
            "text/plain": [
              "city\n",
              "Amandaburgh        12.0\n",
              "Barajasview        26.0\n",
              "Carriemouth        52.0\n",
              "Christopherfurt    41.0\n",
              "Deanville          49.0\n",
              "Name: driver_count, dtype: float64"
            ]
          },
          "metadata": {
            "tags": []
          },
          "execution_count": 18
        }
      ]
    },
    {
      "cell_type": "code",
      "metadata": {
        "id": "T9pTIgLV2AWW",
        "colab_type": "code",
        "colab": {
          "base_uri": "https://localhost:8080/",
          "height": 245
        },
        "outputId": "b1cdf9fd-3542-4a8b-ae43-ea88ef9fe833"
      },
      "source": [
        "# Get the average number of drivers for suburban and rural cities\n",
        "suburban_driver_count = suburban_cities_df.groupby(['city']).mean()['driver_count']\n",
        "rural_driver_count = rural_cities_df.groupby(['city']).mean()['driver_count']\n",
        "print(suburban_driver_count.head())\n",
        "print(rural_driver_count.head())"
      ],
      "execution_count": 19,
      "outputs": [
        {
          "output_type": "stream",
          "text": [
            "city\n",
            "Barronchester    11.0\n",
            "Bethanyland      22.0\n",
            "Brandonfort      10.0\n",
            "Colemanland      23.0\n",
            "Davidfurt        23.0\n",
            "Name: driver_count, dtype: float64\n",
            "city\n",
            "Bradshawfurt      7.0\n",
            "Garzaport         7.0\n",
            "Harringtonfort    4.0\n",
            "Jessicaport       1.0\n",
            "Lake Jamie        4.0\n",
            "Name: driver_count, dtype: float64\n"
          ],
          "name": "stdout"
        }
      ]
    },
    {
      "cell_type": "code",
      "metadata": {
        "id": "vtMPO-1v2uBC",
        "colab_type": "code",
        "colab": {
          "base_uri": "https://localhost:8080/",
          "height": 311
        },
        "outputId": "aadb202f-ae57-4a87-d1d4-668749139ef0"
      },
      "source": [
        "#Build Scatter plot for urban city\n",
        "plt.scatter(urban_ride_count,\n",
        "            urban_avg_fare,\n",
        "            s=10 * urban_driver_count,\n",
        "            color = 'coral',\n",
        "            label = 'Urban',\n",
        "            edgecolor = 'black',\n",
        "            linewidths = 1,\n",
        "            alpha = 0.8\n",
        "            )\n",
        "plt.title('Pyber Ride-Sharing Data (2019)')\n",
        "plt.ylabel('Average Fare ($)')\n",
        "plt.xlabel('Total Number of Rides (Per City)')\n",
        "plt.grid(True)\n",
        "# Add legend\n",
        "plt.legend()"
      ],
      "execution_count": 20,
      "outputs": [
        {
          "output_type": "execute_result",
          "data": {
            "text/plain": [
              "<matplotlib.legend.Legend at 0x7fa3590f8978>"
            ]
          },
          "metadata": {
            "tags": []
          },
          "execution_count": 20
        },
        {
          "output_type": "display_data",
          "data": {
            "image/png": "[encoded data removed]",
            "text/plain": [
              "<Figure size 432x288 with 1 Axes>"
            ]
          },
          "metadata": {
            "tags": [],
            "needs_background": "light"
          }
        }
      ]
    },
    {
      "cell_type": "code",
      "metadata": {
        "id": "RuPmsKJ44k_c",
        "colab_type": "code",
        "colab": {
          "base_uri": "https://localhost:8080/",
          "height": 311
        },
        "outputId": "2ae23b60-5f2f-4bcf-ef59-cd14f0b35f30"
      },
      "source": [
        "#Build Scatter plot for suburban city\n",
        "plt.scatter(suburban_ride_count,\n",
        "            suburban_avg_fare,\n",
        "            s=10 * suburban_driver_count,\n",
        "            color = 'skyblue',\n",
        "            label = 'Suburban',\n",
        "            edgecolor = 'black',\n",
        "            linewidths = 1,\n",
        "            alpha = 0.8\n",
        "            )\n",
        "plt.title('Pyber Ride-Sharing Data (2019)')\n",
        "plt.ylabel('Average Fare ($)')\n",
        "plt.xlabel('Total Number of Rides (Per City)')\n",
        "plt.grid(True)\n",
        "# Add legend\n",
        "plt.legend()"
      ],
      "execution_count": 21,
      "outputs": [
        {
          "output_type": "execute_result",
          "data": {
            "text/plain": [
              "<matplotlib.legend.Legend at 0x7fa358be5ac8>"
            ]
          },
          "metadata": {
            "tags": []
          },
          "execution_count": 21
        },
        {
          "output_type": "display_data",
          "data": {
            "image/png": "[encoded data removed]",
            "text/plain": [
              "<Figure size 432x288 with 1 Axes>"
            ]
          },
          "metadata": {
            "tags": [],
            "needs_background": "light"
          }
        }
      ]
    },
    {
      "cell_type": "code",
      "metadata": {
        "id": "MgjhJq3_6jwy",
        "colab_type": "code",
        "colab": {
          "base_uri": "https://localhost:8080/",
          "height": 311
        },
        "outputId": "54f76d8a-e989-44bd-c7b3-81aa54f3f4d7"
      },
      "source": [
        "#Build Scatter plot for rural city\n",
        "plt.scatter(rural_ride_count,\n",
        "            rural_avg_fare,\n",
        "            s=10 * rural_driver_count,\n",
        "            color = 'gold',\n",
        "            label = 'Rural',\n",
        "            edgecolor = 'black',\n",
        "            linewidths = 1,\n",
        "            alpha = 0.8\n",
        "            )\n",
        "plt.title('Pyber Ride-Sharing Data (2019)')\n",
        "plt.ylabel('Average Fare ($)')\n",
        "plt.xlabel('Total Number of Rides (Per City)')\n",
        "plt.grid(True)\n",
        "# Add legend\n",
        "plt.legend()"
      ],
      "execution_count": 22,
      "outputs": [
        {
          "output_type": "execute_result",
          "data": {
            "text/plain": [
              "<matplotlib.legend.Legend at 0x7fa358b67518>"
            ]
          },
          "metadata": {
            "tags": []
          },
          "execution_count": 22
        },
        {
          "output_type": "display_data",
          "data": {
            "image/png": "[encoded data removed]",
            "text/plain": [
              "<Figure size 432x288 with 1 Axes>"
            ]
          },
          "metadata": {
            "tags": [],
            "needs_background": "light"
          }
        }
      ]
    },
    {
      "cell_type": "code",
      "metadata": {
        "id": "T8ixIqlr6wk5",
        "colab_type": "code",
        "colab": {
          "base_uri": "https://localhost:8080/",
          "height": 412
        },
        "outputId": "992f9c25-4475-4e30-c6e2-1ccf2fd80354"
      },
      "source": [
        "# Build the scatter plots for each city type into one scatter plot\n",
        "# Urban\n",
        "plt.subplots(figsize = (10, 6))\n",
        "plt.scatter(urban_ride_count,\n",
        "            urban_avg_fare,\n",
        "            s=10 * urban_driver_count,\n",
        "            color = 'coral',\n",
        "            label = 'Urban',\n",
        "            edgecolor = 'black',\n",
        "            linewidths = 1,\n",
        "            alpha = 0.8\n",
        "            )\n",
        "\n",
        "# Suburban\n",
        "plt.scatter(suburban_ride_count,\n",
        "            suburban_avg_fare,\n",
        "            s=10 * suburban_driver_count,\n",
        "            color = 'skyblue',\n",
        "            label = 'Suburban',\n",
        "            edgecolor = 'black',\n",
        "            linewidths = 1,\n",
        "            alpha = 0.8\n",
        "            )\n",
        "\n",
        "# Rural\n",
        "plt.scatter(rural_ride_count,\n",
        "            rural_avg_fare,\n",
        "            s=10 * rural_driver_count,\n",
        "            color = 'gold',\n",
        "            label = 'Rural',\n",
        "            edgecolor = 'black',\n",
        "            linewidths = 1,\n",
        "            alpha = 0.8\n",
        "            )\n",
        "\n",
        "plt.title('Pyber Ride-Sharing Data (2019)', fontsize = 20)\n",
        "plt.ylabel('Average Fare ($)', fontsize = 12)\n",
        "plt.xlabel('Total Number of Rides (Per City)', fontsize = 12)\n",
        "plt.grid(True)\n",
        "# Add legend\n",
        "# Create a legend\n",
        "lgnd = plt.legend(fontsize=\"12\", mode=\"Expanded\",\n",
        "         scatterpoints=1, loc=\"best\", title=\"City Types\")\n",
        "lgnd.legendHandles[0]._sizes = [75]\n",
        "lgnd.legendHandles[1]._sizes = [75]\n",
        "lgnd.legendHandles[2]._sizes = [75]\n",
        "lgnd.get_title().set_fontsize(12)\n",
        "# Incorporate a text label about circle size.\n",
        "plt.text(42, 35, \"Note: Circle size correlates with driver count per city.\", fontsize=\"12\")\n",
        "# Save the figure.\n",
        "plt.savefig(\"/content/drive/My Drive/Colab Notebooks/PyBer_Analysis/Analysis/Fig1.png\")\n",
        "# Show plot\n",
        "plt.show()"
      ],
      "execution_count": 23,
      "outputs": [
        {
          "output_type": "display_data",
          "data": {
            "image/png": "[encoded data removed]",
            "text/plain": [
              "<Figure size 720x432 with 1 Axes>"
            ]
          },
          "metadata": {
            "tags": [],
            "needs_background": "light"
          }
        }
      ]
    },
    {
      "cell_type": "code",
      "metadata": {
        "id": "7_IsAlsh7XWh",
        "colab_type": "code",
        "colab": {
          "base_uri": "https://localhost:8080/",
          "height": 456
        },
        "outputId": "d9adfd2f-8712-4372-f7e1-4fe9802c1607"
      },
      "source": [
        "# Get summary statistics for cities\n",
        "print(urban_cities_df.describe())\n",
        "print(suburban_cities_df.describe())\n",
        "print(rural_cities_df.describe())"
      ],
      "execution_count": 24,
      "outputs": [
        {
          "output_type": "stream",
          "text": [
            "              fare       ride_id  driver_count\n",
            "count  1625.000000  1.625000e+03   1625.000000\n",
            "mean     24.525772  4.873485e+12     36.678154\n",
            "std      11.738649  2.907440e+12     20.075545\n",
            "min       4.050000  1.458810e+10      3.000000\n",
            "25%      14.550000  2.400244e+12     22.000000\n",
            "50%      24.640000  4.711188e+12     37.000000\n",
            "75%      34.580000  7.451579e+12     52.000000\n",
            "max      44.970000  9.991538e+12     73.000000\n",
            "             fare       ride_id  driver_count\n",
            "count  625.000000  6.250000e+02    625.000000\n",
            "mean    30.970128  4.971015e+12     13.712000\n",
            "std     10.677508  2.912410e+12      8.042372\n",
            "min     12.050000  3.218337e+08      1.000000\n",
            "25%     21.970000  2.364253e+12      5.000000\n",
            "50%     30.750000  5.053221e+12     16.000000\n",
            "75%     39.830000  7.551674e+12     21.000000\n",
            "max     49.960000  9.917744e+12     25.000000\n",
            "             fare       ride_id  driver_count\n",
            "count  125.000000  1.250000e+02    125.000000\n",
            "mean    34.623440  4.647746e+12      4.296000\n",
            "std     14.558046  2.887834e+12      2.691156\n",
            "min     10.110000  2.684873e+10      1.000000\n",
            "25%     19.900000  2.275364e+12      1.000000\n",
            "50%     37.050000  4.023962e+12      4.000000\n",
            "75%     47.070000  7.118047e+12      7.000000\n",
            "max     58.550000  9.990581e+12      9.000000\n"
          ],
          "name": "stdout"
        }
      ]
    },
    {
      "cell_type": "code",
      "metadata": {
        "id": "kAYikki9hHT7",
        "colab_type": "code",
        "colab": {
          "base_uri": "https://localhost:8080/",
          "height": 456
        },
        "outputId": "ab791904-785f-4051-a354-bf5157446081"
      },
      "source": [
        "# Get summary statistics for ride counts\n",
        "print(urban_ride_count.describe())\n",
        "print(suburban_ride_count.describe())\n",
        "print(rural_ride_count.describe())"
      ],
      "execution_count": 25,
      "outputs": [
        {
          "output_type": "stream",
          "text": [
            "count    66.000000\n",
            "mean     24.621212\n",
            "std       5.408726\n",
            "min      12.000000\n",
            "25%      21.000000\n",
            "50%      24.000000\n",
            "75%      28.000000\n",
            "max      39.000000\n",
            "Name: ride_id, dtype: float64\n",
            "count    36.000000\n",
            "mean     17.361111\n",
            "std       4.323707\n",
            "min       9.000000\n",
            "25%      14.000000\n",
            "50%      17.000000\n",
            "75%      19.250000\n",
            "max      27.000000\n",
            "Name: ride_id, dtype: float64\n",
            "count    18.000000\n",
            "mean      6.944444\n",
            "std       2.508157\n",
            "min       3.000000\n",
            "25%       5.250000\n",
            "50%       6.000000\n",
            "75%       8.750000\n",
            "max      12.000000\n",
            "Name: ride_id, dtype: float64\n"
          ],
          "name": "stdout"
        }
      ]
    },
    {
      "cell_type": "code",
      "metadata": {
        "id": "Y0r1M1qJiHyl",
        "colab_type": "code",
        "colab": {
          "base_uri": "https://localhost:8080/",
          "height": 33
        },
        "outputId": "7e5db644-2e21-4f93-d3f2-56359deabfef"
      },
      "source": [
        "# Calculate the mean of the ride count for each city type\n",
        "round(urban_ride_count.mean(), 2), round(suburban_ride_count.mean(), 2), round(rural_ride_count.mean(), 2)"
      ],
      "execution_count": 26,
      "outputs": [
        {
          "output_type": "execute_result",
          "data": {
            "text/plain": [
              "(24.62, 17.36, 6.94)"
            ]
          },
          "metadata": {
            "tags": []
          },
          "execution_count": 26
        }
      ]
    },
    {
      "cell_type": "code",
      "metadata": {
        "id": "l6ffZwaDizIX",
        "colab_type": "code",
        "colab": {
          "base_uri": "https://localhost:8080/",
          "height": 33
        },
        "outputId": "8ff5aa5e-789e-42a8-d90b-45c74844dde4"
      },
      "source": [
        "# Calculate the median of the ride count for each city type\n",
        "round(urban_ride_count.median(), 2), round(suburban_ride_count.median(), 2), round(rural_ride_count.median(), 2)"
      ],
      "execution_count": 27,
      "outputs": [
        {
          "output_type": "execute_result",
          "data": {
            "text/plain": [
              "(24.0, 17.0, 6.0)"
            ]
          },
          "metadata": {
            "tags": []
          },
          "execution_count": 27
        }
      ]
    },
    {
      "cell_type": "code",
      "metadata": {
        "id": "h09Ms2b8jJ28",
        "colab_type": "code",
        "colab": {
          "base_uri": "https://localhost:8080/",
          "height": 131
        },
        "outputId": "485808b5-5c05-48c7-f23d-da17470891ac"
      },
      "source": [
        "# Calculate the mode of the ride count for each city type\n",
        "print(urban_ride_count.mode())\n",
        "print(suburban_ride_count.mode())\n",
        "print(rural_ride_count.mode())"
      ],
      "execution_count": 28,
      "outputs": [
        {
          "output_type": "stream",
          "text": [
            "0    22\n",
            "1    25\n",
            "dtype: int64\n",
            "0    17\n",
            "dtype: int64\n",
            "0    6\n",
            "dtype: int64\n"
          ],
          "name": "stdout"
        }
      ]
    },
    {
      "cell_type": "code",
      "metadata": {
        "id": "fkxsl_oLjiIO",
        "colab_type": "code",
        "colab": {}
      },
      "source": [
        "# Import SciPy for statistics\n",
        "import scipy.stats as sts"
      ],
      "execution_count": 29,
      "outputs": []
    },
    {
      "cell_type": "code",
      "metadata": {
        "id": "cgfgfGU5kTEj",
        "colab_type": "code",
        "colab": {
          "base_uri": "https://localhost:8080/",
          "height": 66
        },
        "outputId": "22ba84bc-d0ba-45a5-cff7-67cb281f815a"
      },
      "source": [
        "# Calculate the measures of central tendency for the ride count for the urban cities.\n",
        "mean_urban_ride_count = np.mean(urban_ride_count)\n",
        "print(f\"The mean for the ride counts for urban trips is {mean_urban_ride_count:.2f}.\")\n",
        "\n",
        "median_urban_ride_count = np.median(urban_ride_count)\n",
        "print(f\"The median for the ride counts for urban trips is {median_urban_ride_count}.\")\n",
        "\n",
        "mode_urban_ride_count = sts.mode(urban_ride_count)\n",
        "print(f\"The mode for the ride counts for urban trips is {mode_urban_ride_count}.\")"
      ],
      "execution_count": 30,
      "outputs": [
        {
          "output_type": "stream",
          "text": [
            "The mean for the ride counts for urban trips is 24.62.\n",
            "The median for the ride counts for urban trips is 24.0.\n",
            "The mode for the ride counts for urban trips is ModeResult(mode=array([22]), count=array([7])).\n"
          ],
          "name": "stdout"
        }
      ]
    },
    {
      "cell_type": "code",
      "metadata": {
        "id": "GOL9GgCTktN-",
        "colab_type": "code",
        "colab": {
          "base_uri": "https://localhost:8080/",
          "height": 66
        },
        "outputId": "693962d9-6adf-44a2-cee6-b38b9880fe80"
      },
      "source": [
        "# Calculate the measures of central tendency for the ride count for the suburban cities.\n",
        "mean_suburban_ride_count = np.mean(suburban_ride_count)\n",
        "print(f\"The mean for the ride counts for urban trips is {mean_suburban_ride_count:.2f}.\")\n",
        "\n",
        "median_suburban_ride_count = np.median(suburban_ride_count)\n",
        "print(f\"The median for the ride counts for urban trips is {median_urban_ride_count}.\")\n",
        "\n",
        "mode_suburban_ride_count = sts.mode(suburban_ride_count)\n",
        "print(f\"The mode for the ride counts for urban trips is {mode_suburban_ride_count}.\")"
      ],
      "execution_count": 31,
      "outputs": [
        {
          "output_type": "stream",
          "text": [
            "The mean for the ride counts for urban trips is 17.36.\n",
            "The median for the ride counts for urban trips is 24.0.\n",
            "The mode for the ride counts for urban trips is ModeResult(mode=array([17]), count=array([7])).\n"
          ],
          "name": "stdout"
        }
      ]
    },
    {
      "cell_type": "code",
      "metadata": {
        "id": "yLGb1uBclOrK",
        "colab_type": "code",
        "colab": {
          "base_uri": "https://localhost:8080/",
          "height": 66
        },
        "outputId": "d116615c-91d9-4750-d719-c002cd8c78bc"
      },
      "source": [
        "# Calculate the measures of central tendency for the ride count for the urban cities.\n",
        "mean_rural_ride_count = np.mean(rural_ride_count)\n",
        "print(f\"The mean for the ride counts for urban trips is {mean_rural_ride_count:.2f}.\")\n",
        "\n",
        "median_rural_ride_count = np.median(rural_ride_count)\n",
        "print(f\"The median for the ride counts for urban trips is {median_rural_ride_count}.\")\n",
        "\n",
        "mode_rural_ride_count = sts.mode(rural_ride_count)\n",
        "print(f\"The mode for the ride counts for urban trips is {mode_rural_ride_count}.\")"
      ],
      "execution_count": 32,
      "outputs": [
        {
          "output_type": "stream",
          "text": [
            "The mean for the ride counts for urban trips is 6.94.\n",
            "The median for the ride counts for urban trips is 6.0.\n",
            "The mode for the ride counts for urban trips is ModeResult(mode=array([6]), count=array([5])).\n"
          ],
          "name": "stdout"
        }
      ]
    },
    {
      "cell_type": "code",
      "metadata": {
        "id": "MJI_auIclnh1",
        "colab_type": "code",
        "colab": {
          "base_uri": "https://localhost:8080/",
          "height": 115
        },
        "outputId": "9dbea873-b9d9-4ecb-8b41-d2c6bb6f69b8"
      },
      "source": [
        "# Get the fares for the urban cities.\n",
        "urban_fares = urban_cities_df['fare']\n",
        "urban_fares.head()"
      ],
      "execution_count": 33,
      "outputs": [
        {
          "output_type": "execute_result",
          "data": {
            "text/plain": [
              "0    13.83\n",
              "1    30.24\n",
              "2    33.44\n",
              "3    23.44\n",
              "4    34.58\n",
              "Name: fare, dtype: float64"
            ]
          },
          "metadata": {
            "tags": []
          },
          "execution_count": 33
        }
      ]
    },
    {
      "cell_type": "code",
      "metadata": {
        "id": "QhMYUCxNmPv7",
        "colab_type": "code",
        "colab": {
          "base_uri": "https://localhost:8080/",
          "height": 66
        },
        "outputId": "eb08dc38-9c84-4db8-f8b0-6c2719f9b9ec"
      },
      "source": [
        "# Calculate the measures of central tendency for the average fare for the urban cities.\n",
        "mean_urban_fares = np.mean(urban_fares)\n",
        "print(f\"The mean fare price for urban trips is ${mean_urban_fares:.2f}.\")\n",
        "\n",
        "median_urban_fares = np.median(urban_fares)\n",
        "print(f\"The median fare price for urban trips is ${median_urban_fares:.2f}.\")\n",
        "\n",
        "mode_urban_fares = sts.mode(urban_fares)\n",
        "print(f\"The mode fare price for urban trips is {mode_urban_fares}.\")"
      ],
      "execution_count": 34,
      "outputs": [
        {
          "output_type": "stream",
          "text": [
            "The mean fare price for urban trips is $24.53.\n",
            "The median fare price for urban trips is $24.64.\n",
            "The mode fare price for urban trips is ModeResult(mode=array([22.86]), count=array([5])).\n"
          ],
          "name": "stdout"
        }
      ]
    },
    {
      "cell_type": "code",
      "metadata": {
        "id": "hr2jETuqmhvb",
        "colab_type": "code",
        "colab": {
          "base_uri": "https://localhost:8080/",
          "height": 66
        },
        "outputId": "a6b5e23f-bd18-4f5f-c4ca-57b2761a25b9"
      },
      "source": [
        "suburban_fares = suburban_cities_df['fare']\n",
        "# Calculate the measures of central tendency for the average fare for the suburban cities.\n",
        "mean_suburban_fares = np.mean(suburban_fares)\n",
        "print(f\"The mean fare price for suburban trips is ${mean_suburban_fares:.2f}.\")\n",
        "\n",
        "median_suburban_fares = np.median(suburban_fares)\n",
        "print(f\"The median fare price for suburban trips is ${median_suburban_fares:.2f}.\")\n",
        "\n",
        "mode_suburban_fares = sts.mode(suburban_fares)\n",
        "print(f\"The mode fare price for suburban trips is {mode_suburban_fares}.\")"
      ],
      "execution_count": 35,
      "outputs": [
        {
          "output_type": "stream",
          "text": [
            "The mean fare price for suburban trips is $30.97.\n",
            "The median fare price for suburban trips is $30.75.\n",
            "The mode fare price for suburban trips is ModeResult(mode=array([17.99]), count=array([3])).\n"
          ],
          "name": "stdout"
        }
      ]
    },
    {
      "cell_type": "code",
      "metadata": {
        "id": "cjbWTaCfnD1P",
        "colab_type": "code",
        "colab": {
          "base_uri": "https://localhost:8080/",
          "height": 66
        },
        "outputId": "f49a0104-3f61-4cf6-dd39-eb4989ea5657"
      },
      "source": [
        "rural_fares = rural_cities_df['fare']\n",
        "# Calculate the measures of central tendency for the average fare for the rural cities.\n",
        "mean_rural_fares = np.mean(rural_fares)\n",
        "print(f\"The mean fare price for rural trips is ${mean_rural_fares:.2f}.\")\n",
        "\n",
        "median_rural_fares = np.median(rural_fares)\n",
        "print(f\"The median fare price for rural trips is ${median_rural_fares:.2f}.\")\n",
        "\n",
        "mode_rural_fares = sts.mode(rural_fares)\n",
        "print(f\"The mode fare price for rural trips is {mode_rural_fares}.\")"
      ],
      "execution_count": 36,
      "outputs": [
        {
          "output_type": "stream",
          "text": [
            "The mean fare price for rural trips is $34.62.\n",
            "The median fare price for rural trips is $37.05.\n",
            "The mode fare price for rural trips is ModeResult(mode=array([37.05]), count=array([2])).\n"
          ],
          "name": "stdout"
        }
      ]
    },
    {
      "cell_type": "code",
      "metadata": {
        "id": "uFwkd2L4nwWu",
        "colab_type": "code",
        "colab": {
          "base_uri": "https://localhost:8080/",
          "height": 115
        },
        "outputId": "c997ad4c-b115-45c5-d6fb-3756aa9aa0ec"
      },
      "source": [
        "# Get the driver count data for all city types\n",
        "urban_drivers = urban_cities_df['driver_count']\n",
        "suburban_drivers = suburban_cities_df['driver_count']\n",
        "rural_drivers = rural_cities_df['driver_count']\n",
        "urban_drivers.head()"
      ],
      "execution_count": 37,
      "outputs": [
        {
          "output_type": "execute_result",
          "data": {
            "text/plain": [
              "0     5\n",
              "1    72\n",
              "2    57\n",
              "3    34\n",
              "4    46\n",
              "Name: driver_count, dtype: int64"
            ]
          },
          "metadata": {
            "tags": []
          },
          "execution_count": 37
        }
      ]
    },
    {
      "cell_type": "code",
      "metadata": {
        "id": "LLxcsHYWonX8",
        "colab_type": "code",
        "colab": {
          "base_uri": "https://localhost:8080/",
          "height": 66
        },
        "outputId": "f420f5ce-63d5-4624-904b-f24ca2bdb94c"
      },
      "source": [
        "# Caluclate the measures of central tendency for the count of drivers for the urban cities\n",
        "mean_urban_drivers = np.mean(urban_drivers)\n",
        "print(f'The mean driver count for urban drivers is {mean_urban_drivers:.2f}.')\n",
        "\n",
        "median_urban_drivers = np.median(urban_drivers)\n",
        "print(f'The median driver count for urban drivers is {median_urban_drivers:.2f}.')\n",
        "\n",
        "mode_urban_drivers = sts.mode(urban_drivers)\n",
        "print(f'The mode driver count for urban drivers is {mode_urban_drivers}.')"
      ],
      "execution_count": 38,
      "outputs": [
        {
          "output_type": "stream",
          "text": [
            "The mean driver count for urban drivers is 36.68.\n",
            "The median driver count for urban drivers is 37.00.\n",
            "The mode driver count for urban drivers is ModeResult(mode=array([39]), count=array([86])).\n"
          ],
          "name": "stdout"
        }
      ]
    },
    {
      "cell_type": "code",
      "metadata": {
        "id": "iy1t-vaqp1Qx",
        "colab_type": "code",
        "colab": {
          "base_uri": "https://localhost:8080/",
          "height": 66
        },
        "outputId": "66eb619a-bf85-4004-8644-31f0a4fc49e8"
      },
      "source": [
        "# Caluclate the measures of central tendency for the count of drivers for the suburban cities\n",
        "mean_suburban_drivers = np.mean(suburban_drivers)\n",
        "print(f'The mean driver count for suburban drivers is {mean_suburban_drivers:.2f}.')\n",
        "\n",
        "median_suburban_drivers = np.median(suburban_drivers)\n",
        "print(f'The median driver count for suburban drivers is {median_suburban_drivers:.2f}.')\n",
        "\n",
        "mode_suburban_drivers = sts.mode(suburban_drivers)\n",
        "print(f'The mode driver count for suburban drivers is {mode_suburban_drivers}.')"
      ],
      "execution_count": 39,
      "outputs": [
        {
          "output_type": "stream",
          "text": [
            "The mean driver count for suburban drivers is 13.71.\n",
            "The median driver count for suburban drivers is 16.00.\n",
            "The mode driver count for suburban drivers is ModeResult(mode=array([20]), count=array([79])).\n"
          ],
          "name": "stdout"
        }
      ]
    },
    {
      "cell_type": "code",
      "metadata": {
        "id": "Z7MCFNgFqP4Q",
        "colab_type": "code",
        "colab": {
          "base_uri": "https://localhost:8080/",
          "height": 66
        },
        "outputId": "e3d348bb-3c1e-4294-beda-9288e385067f"
      },
      "source": [
        "# Caluclate the measures of central tendency for the count of drivers for the rural cities\n",
        "mean_rural_drivers = np.mean(rural_drivers)\n",
        "print(f'The mean driver count for rural drivers is {mean_rural_drivers:.2f}.')\n",
        "\n",
        "median_rural_drivers = np.median(rural_drivers)\n",
        "print(f'The median driver count for rural drivers is {median_rural_drivers:.2f}.')\n",
        "\n",
        "mode_rural_drivers = sts.mode(rural_drivers)\n",
        "print(f'The mode driver count for rural drivers is {mode_rural_drivers}.')"
      ],
      "execution_count": 40,
      "outputs": [
        {
          "output_type": "stream",
          "text": [
            "The mean driver count for rural drivers is 4.30.\n",
            "The median driver count for rural drivers is 4.00.\n",
            "The mode driver count for rural drivers is ModeResult(mode=array([1]), count=array([32])).\n"
          ],
          "name": "stdout"
        }
      ]
    },
    {
      "cell_type": "code",
      "metadata": {
        "id": "3Lded3jhqmhd",
        "colab_type": "code",
        "colab": {
          "base_uri": "https://localhost:8080/",
          "height": 281
        },
        "outputId": "79fabbcd-28ad-4efe-a845-4e442b7c9d7e"
      },
      "source": [
        "# Create a box-and-whisker plot for the urban cities ride count.\n",
        "x_labels = [\"Urban\"]\n",
        "fig, ax = plt.subplots()\n",
        "ax.boxplot(urban_ride_count, labels=x_labels)\n",
        "# Add the title, y-axis label and grid.\n",
        "ax.set_title('Ride Count Data (2019)')\n",
        "ax.set_ylabel('Number of Rides')\n",
        "ax.set_yticks(np.arange(10, 41, step=2.0))\n",
        "ax.grid()\n",
        "plt.show()"
      ],
      "execution_count": 41,
      "outputs": [
        {
          "output_type": "display_data",
          "data": {
            "image/png": "[encoded data removed]",
            "text/plain": [
              "<Figure size 432x288 with 1 Axes>"
            ]
          },
          "metadata": {
            "tags": [],
            "needs_background": "light"
          }
        }
      ]
    },
    {
      "cell_type": "code",
      "metadata": {
        "id": "UPTZe4KgrOL3",
        "colab_type": "code",
        "colab": {
          "base_uri": "https://localhost:8080/",
          "height": 281
        },
        "outputId": "2d3be4fc-5635-48f2-f5c6-f6a1a88ce0c9"
      },
      "source": [
        "# Create a box-and-whisker plot for the Suburban cities ride count.\n",
        "x_labels = [\"Subrban\"]\n",
        "fig, ax = plt.subplots()\n",
        "ax.boxplot(suburban_ride_count, labels=x_labels)\n",
        "# Add the title, y-axis label and grid.\n",
        "ax.set_title('Ride Count Data (2019)')\n",
        "ax.set_ylabel('Number of Rides')\n",
        "ax.set_yticks(np.arange(10, 30, step=2.0))\n",
        "ax.grid()\n",
        "plt.show()"
      ],
      "execution_count": 42,
      "outputs": [
        {
          "output_type": "display_data",
          "data": {
            "image/png": "[encoded data removed]",
            "text/plain": [
              "<Figure size 432x288 with 1 Axes>"
            ]
          },
          "metadata": {
            "tags": [],
            "needs_background": "light"
          }
        }
      ]
    },
    {
      "cell_type": "code",
      "metadata": {
        "id": "BSVKJO98sFoc",
        "colab_type": "code",
        "colab": {
          "base_uri": "https://localhost:8080/",
          "height": 281
        },
        "outputId": "c13a9f8c-91ff-4167-8393-3a2904a1fe53"
      },
      "source": [
        "# Create a box-and-whisker plot for the rural cities ride count.\n",
        "x_labels = [\"Rural\"]\n",
        "fig, ax = plt.subplots()\n",
        "ax.boxplot(rural_ride_count, labels=x_labels)\n",
        "# Add the title, y-axis label and grid.\n",
        "ax.set_title('Ride Count Data (2019)')\n",
        "ax.set_ylabel('Number of Rides')\n",
        "ax.set_yticks(np.arange(0, 20, step=2.0))\n",
        "ax.grid()\n",
        "plt.show()"
      ],
      "execution_count": 43,
      "outputs": [
        {
          "output_type": "display_data",
          "data": {
            "image/png": "[encoded data removed]",
            "text/plain": [
              "<Figure size 432x288 with 1 Axes>"
            ]
          },
          "metadata": {
            "tags": [],
            "needs_background": "light"
          }
        }
      ]
    },
    {
      "cell_type": "code",
      "metadata": {
        "id": "Zu7z7N5qshnw",
        "colab_type": "code",
        "colab": {
          "base_uri": "https://localhost:8080/",
          "height": 412
        },
        "outputId": "a3ed9d42-520f-4a8b-d707-88ae0ccc7133"
      },
      "source": [
        "# Add all ride count box-and-whisker plots to the same graph.\n",
        "x_labels = [\"Urban\", \"Suburban\",\"Rural\"]\n",
        "ride_count_data = [urban_ride_count, suburban_ride_count, rural_ride_count]\n",
        "fig, ax = plt.subplots(figsize=(10, 6))\n",
        "ax.set_title('Ride Count Data (2019)',fontsize=20)\n",
        "ax.set_ylabel('Number of Rides',fontsize=14)\n",
        "ax.set_xlabel(\"City Types\",fontsize=14)\n",
        "ax.boxplot(ride_count_data, labels=x_labels)\n",
        "ax.set_yticks(np.arange(0, 45, step=3.0))\n",
        "ax.grid()\n",
        "# Save the figure.\n",
        "plt.savefig(\"/content/drive/My Drive/Colab Notebooks/PyBer_Analysis/Analysis/Fig2.png\")\n",
        "plt.show()"
      ],
      "execution_count": 44,
      "outputs": [
        {
          "output_type": "display_data",
          "data": {
            "image/png": "[encoded data removed]",
            "text/plain": [
              "<Figure size 720x432 with 1 Axes>"
            ]
          },
          "metadata": {
            "tags": [],
            "needs_background": "light"
          }
        }
      ]
    },
    {
      "cell_type": "code",
      "metadata": {
        "id": "KRnplFpsszaD",
        "colab_type": "code",
        "colab": {
          "base_uri": "https://localhost:8080/",
          "height": 33
        },
        "outputId": "f3a6b193-7579-45ed-d4ab-0bf3c0f55e2f"
      },
      "source": [
        "# Get the city that matches 39.\n",
        "urban_city_outlier = urban_ride_count[urban_ride_count==39].index[0]\n",
        "print(f\"{urban_city_outlier} has the highest rider count.\")"
      ],
      "execution_count": 45,
      "outputs": [
        {
          "output_type": "stream",
          "text": [
            "West Angela has the highest rider count.\n"
          ],
          "name": "stdout"
        }
      ]
    },
    {
      "cell_type": "code",
      "metadata": {
        "id": "B6ynju2St6hD",
        "colab_type": "code",
        "colab": {
          "base_uri": "https://localhost:8080/",
          "height": 443
        },
        "outputId": "b9f3ee42-ec99-4cae-dcfb-2a6b072fdd80"
      },
      "source": [
        "# Create a box-and-whisker plot for the urban fare data.\n",
        "x_labels = ['Urban']\n",
        "fig, ax = plt.subplots()\n",
        "ax.boxplot(urban_fares, labels = x_labels)\n",
        "# Add the title, y-axis label and grid\n",
        "ax.set_title('Ride Fare Data (2019)')\n",
        "ax.set_ylabel('Fare($USD)')\n",
        "ax.set_yticks(np.arange(0, 51, step = 5.0))\n",
        "ax.grid()\n",
        "plt.show()\n",
        "print('Summary Statistics')\n",
        "urban_fares.describe()"
      ],
      "execution_count": 46,
      "outputs": [
        {
          "output_type": "display_data",
          "data": {
            "image/png": "[encoded data removed]",
            "text/plain": [
              "<Figure size 432x288 with 1 Axes>"
            ]
          },
          "metadata": {
            "tags": [],
            "needs_background": "light"
          }
        },
        {
          "output_type": "stream",
          "text": [
            "Summary Statistics\n"
          ],
          "name": "stdout"
        },
        {
          "output_type": "execute_result",
          "data": {
            "text/plain": [
              "count    1625.000000\n",
              "mean       24.525772\n",
              "std        11.738649\n",
              "min         4.050000\n",
              "25%        14.550000\n",
              "50%        24.640000\n",
              "75%        34.580000\n",
              "max        44.970000\n",
              "Name: fare, dtype: float64"
            ]
          },
          "metadata": {
            "tags": []
          },
          "execution_count": 46
        }
      ]
    },
    {
      "cell_type": "code",
      "metadata": {
        "id": "sO8XKYBWvGQy",
        "colab_type": "code",
        "colab": {
          "base_uri": "https://localhost:8080/",
          "height": 443
        },
        "outputId": "87aa16ec-6229-4432-8a87-41fc3b73aecd"
      },
      "source": [
        "# Create a box-and-whisker plot for the Suburban fare data.\n",
        "x_labels = ['Suburban']\n",
        "fig, ax = plt.subplots()\n",
        "ax.boxplot(suburban_fares, labels = x_labels)\n",
        "# Add the title, y-axis label and grid\n",
        "ax.set_title('Ride Fare Data (2019)')\n",
        "ax.set_ylabel('Fare ($USD)')\n",
        "ax.set_yticks(np.arange(5, 60, step = 5.0))\n",
        "ax.grid()\n",
        "plt.show()\n",
        "print('Summary Statistics')\n",
        "suburban_fares.describe()"
      ],
      "execution_count": 47,
      "outputs": [
        {
          "output_type": "display_data",
          "data": {
            "image/png": "[encoded data removed]",
            "text/plain": [
              "<Figure size 432x288 with 1 Axes>"
            ]
          },
          "metadata": {
            "tags": [],
            "needs_background": "light"
          }
        },
        {
          "output_type": "stream",
          "text": [
            "Summary Statistics\n"
          ],
          "name": "stdout"
        },
        {
          "output_type": "execute_result",
          "data": {
            "text/plain": [
              "count    625.000000\n",
              "mean      30.970128\n",
              "std       10.677508\n",
              "min       12.050000\n",
              "25%       21.970000\n",
              "50%       30.750000\n",
              "75%       39.830000\n",
              "max       49.960000\n",
              "Name: fare, dtype: float64"
            ]
          },
          "metadata": {
            "tags": []
          },
          "execution_count": 47
        }
      ]
    },
    {
      "cell_type": "code",
      "metadata": {
        "id": "l-JCg6srwN9b",
        "colab_type": "code",
        "colab": {
          "base_uri": "https://localhost:8080/",
          "height": 443
        },
        "outputId": "d8045f20-4994-47d0-dcbb-90441f675e71"
      },
      "source": [
        "# Create a box-and-whisker plot for the Rural fare data.\n",
        "x_labels = ['Rural']\n",
        "fig, ax = plt.subplots()\n",
        "ax.boxplot(rural_fares, labels = x_labels)\n",
        "# Add the title, y-axis label and grid\n",
        "ax.set_title('Ride Fare Data (2019)')\n",
        "ax.set_ylabel('Fare ($USD)')\n",
        "ax.set_yticks(np.arange(0, 70, step = 5.0))\n",
        "ax.grid()\n",
        "plt.show()\n",
        "print('Summary Statistics')\n",
        "rural_fares.describe()"
      ],
      "execution_count": 48,
      "outputs": [
        {
          "output_type": "display_data",
          "data": {
            "image/png": "[encoded data removed]",
            "text/plain": [
              "<Figure size 432x288 with 1 Axes>"
            ]
          },
          "metadata": {
            "tags": [],
            "needs_background": "light"
          }
        },
        {
          "output_type": "stream",
          "text": [
            "Summary Statistics\n"
          ],
          "name": "stdout"
        },
        {
          "output_type": "execute_result",
          "data": {
            "text/plain": [
              "count    125.000000\n",
              "mean      34.623440\n",
              "std       14.558046\n",
              "min       10.110000\n",
              "25%       19.900000\n",
              "50%       37.050000\n",
              "75%       47.070000\n",
              "max       58.550000\n",
              "Name: fare, dtype: float64"
            ]
          },
          "metadata": {
            "tags": []
          },
          "execution_count": 48
        }
      ]
    },
    {
      "cell_type": "code",
      "metadata": {
        "id": "aVbLxfyBxMI8",
        "colab_type": "code",
        "colab": {
          "base_uri": "https://localhost:8080/",
          "height": 412
        },
        "outputId": "8b95e2da-e4cf-42db-ab48-74f837db1e1d"
      },
      "source": [
        "# Create a box-and-whisker plot for the Rural fare data.\n",
        "x_labels = ['Urban', 'Suburban', 'Rural']\n",
        "ride_fare_data = [urban_fares, suburban_fares, rural_fares]\n",
        "fig, ax = plt.subplots(figsize =(10, 6))\n",
        "ax.boxplot(ride_fare_data, labels = x_labels)\n",
        "# Add the title, y-axis label and grid\n",
        "ax.set_title('Ride Fare Data (2019)', fontsize = 20)\n",
        "ax.set_ylabel('Fare ($USD)', fontsize = 14)\n",
        "ax.set_xlabel('City Types', fontsize = 14)\n",
        "ax.set_yticks(np.arange(0, 70, step = 5.0))\n",
        "ax.grid()\n",
        "# Save the figure.\n",
        "plt.savefig(\"/content/drive/My Drive/Colab Notebooks/PyBer_Analysis/Analysis/Fig3.png\")\n",
        "plt.show()"
      ],
      "execution_count": 49,
      "outputs": [
        {
          "output_type": "display_data",
          "data": {
            "image/png": "[encoded data removed]",
            "text/plain": [
              "<Figure size 720x432 with 1 Axes>"
            ]
          },
          "metadata": {
            "tags": [],
            "needs_background": "light"
          }
        }
      ]
    },
    {
      "cell_type": "code",
      "metadata": {
        "id": "MXcqctQoylkJ",
        "colab_type": "code",
        "colab": {
          "base_uri": "https://localhost:8080/",
          "height": 443
        },
        "outputId": "f5e5110f-a206-4890-9044-ece97335a747"
      },
      "source": [
        "# Create the box-and-whisker plot for the urban driver count data.\n",
        "x_labels = [\"Urban\"]\n",
        "fig, ax = plt.subplots()\n",
        "ax.boxplot(urban_drivers,labels=x_labels)\n",
        "# Add the title, y-axis label and grid.\n",
        "ax.set_title('Driver Count Data (2019)')\n",
        "ax.set_ylabel('Number of Drivers)')\n",
        "ax.set_yticks(np.arange(0, 90, step=5.0))\n",
        "ax.grid()\n",
        "plt.show()\n",
        "print(\"Summary Statistics\")\n",
        "urban_drivers.describe()"
      ],
      "execution_count": 50,
      "outputs": [
        {
          "output_type": "display_data",
          "data": {
            "image/png": "[encoded data removed]",
            "text/plain": [
              "<Figure size 432x288 with 1 Axes>"
            ]
          },
          "metadata": {
            "tags": [],
            "needs_background": "light"
          }
        },
        {
          "output_type": "stream",
          "text": [
            "Summary Statistics\n"
          ],
          "name": "stdout"
        },
        {
          "output_type": "execute_result",
          "data": {
            "text/plain": [
              "count    1625.000000\n",
              "mean       36.678154\n",
              "std        20.075545\n",
              "min         3.000000\n",
              "25%        22.000000\n",
              "50%        37.000000\n",
              "75%        52.000000\n",
              "max        73.000000\n",
              "Name: driver_count, dtype: float64"
            ]
          },
          "metadata": {
            "tags": []
          },
          "execution_count": 50
        }
      ]
    },
    {
      "cell_type": "code",
      "metadata": {
        "id": "FLvJBjUO1YO2",
        "colab_type": "code",
        "colab": {
          "base_uri": "https://localhost:8080/",
          "height": 443
        },
        "outputId": "9d271d09-b883-4773-96c1-b50af95bcb81"
      },
      "source": [
        "# Create the box-and-whisker plot for the Suburban driver count data.\n",
        "x_labels = [\"Subrban\"]\n",
        "fig, ax = plt.subplots()\n",
        "ax.boxplot(suburban_drivers,labels=x_labels)\n",
        "# Add the title, y-axis label and grid.\n",
        "ax.set_title('Driver Count Data (2019)')\n",
        "ax.set_ylabel('Number of Drivers)')\n",
        "ax.set_yticks(np.arange(0, 30, step=2.0))\n",
        "ax.grid()\n",
        "plt.show()\n",
        "print(\"Summary Statistics\")\n",
        "suburban_drivers.describe()"
      ],
      "execution_count": 51,
      "outputs": [
        {
          "output_type": "display_data",
          "data": {
            "image/png": "[encoded data removed]",
            "text/plain": [
              "<Figure size 432x288 with 1 Axes>"
            ]
          },
          "metadata": {
            "tags": [],
            "needs_background": "light"
          }
        },
        {
          "output_type": "stream",
          "text": [
            "Summary Statistics\n"
          ],
          "name": "stdout"
        },
        {
          "output_type": "execute_result",
          "data": {
            "text/plain": [
              "count    625.000000\n",
              "mean      13.712000\n",
              "std        8.042372\n",
              "min        1.000000\n",
              "25%        5.000000\n",
              "50%       16.000000\n",
              "75%       21.000000\n",
              "max       25.000000\n",
              "Name: driver_count, dtype: float64"
            ]
          },
          "metadata": {
            "tags": []
          },
          "execution_count": 51
        }
      ]
    },
    {
      "cell_type": "code",
      "metadata": {
        "id": "J_qrZHAN2B9g",
        "colab_type": "code",
        "colab": {
          "base_uri": "https://localhost:8080/",
          "height": 443
        },
        "outputId": "ef2765d6-fe36-4e63-e0a3-de016a5f4072"
      },
      "source": [
        "# Create the box-and-whisker plot for the rural driver count data.\n",
        "x_labels = [\"Rural\"]\n",
        "fig, ax = plt.subplots()\n",
        "ax.boxplot(rural_drivers,labels=x_labels)\n",
        "# Add the title, y-axis label and grid.\n",
        "ax.set_title('Driver Count Data (2019)')\n",
        "ax.set_ylabel('Number of Drivers)')\n",
        "ax.set_yticks(np.arange(0, 15, step=1.0))\n",
        "ax.grid()\n",
        "plt.show()\n",
        "print(\"Summary Statistics\")\n",
        "rural_drivers.describe()"
      ],
      "execution_count": 52,
      "outputs": [
        {
          "output_type": "display_data",
          "data": {
            "image/png": "[encoded data removed]",
            "text/plain": [
              "<Figure size 432x288 with 1 Axes>"
            ]
          },
          "metadata": {
            "tags": [],
            "needs_background": "light"
          }
        },
        {
          "output_type": "stream",
          "text": [
            "Summary Statistics\n"
          ],
          "name": "stdout"
        },
        {
          "output_type": "execute_result",
          "data": {
            "text/plain": [
              "count    125.000000\n",
              "mean       4.296000\n",
              "std        2.691156\n",
              "min        1.000000\n",
              "25%        1.000000\n",
              "50%        4.000000\n",
              "75%        7.000000\n",
              "max        9.000000\n",
              "Name: driver_count, dtype: float64"
            ]
          },
          "metadata": {
            "tags": []
          },
          "execution_count": 52
        }
      ]
    },
    {
      "cell_type": "code",
      "metadata": {
        "id": "H08F6P8m2PAZ",
        "colab_type": "code",
        "colab": {
          "base_uri": "https://localhost:8080/",
          "height": 412
        },
        "outputId": "ec1d1402-e69d-4a9c-fd1f-ba72c7a3fbc0"
      },
      "source": [
        "# Create a box-and-whisker plot for ride count data\n",
        "x_labels = ['Urban', 'Suburban', 'Rural']\n",
        "driver_count_data = [urban_driver_count, suburban_driver_count, rural_driver_count]\n",
        "fig, ax = plt.subplots(figsize =(10, 6))\n",
        "ax.boxplot(driver_count_data, labels = x_labels)\n",
        "# Add the title, y-axis label and grid\n",
        "ax.set_title('Driver Count Data (2019)', fontsize = 20)\n",
        "ax.set_ylabel('Number of Drivers', fontsize = 14)\n",
        "ax.set_xlabel('City Type', fontsize = 14)\n",
        "ax.set_yticks(np.arange(0, 80, step = 5.0))\n",
        "ax.grid()\n",
        "# Save the figure.\n",
        "plt.savefig(\"/content/drive/My Drive/Colab Notebooks/PyBer_Analysis/Analysis/Fig4.png\")\n",
        "plt.show()"
      ],
      "execution_count": 53,
      "outputs": [
        {
          "output_type": "display_data",
          "data": {
            "image/png": "[encoded data removed]",
            "text/plain": [
              "<Figure size 720x432 with 1 Axes>"
            ]
          },
          "metadata": {
            "tags": [],
            "needs_background": "light"
          }
        }
      ]
    },
    {
      "cell_type": "code",
      "metadata": {
        "id": "5XG0E8FY3daQ",
        "colab_type": "code",
        "colab": {
          "base_uri": "https://localhost:8080/",
          "height": 98
        },
        "outputId": "7a92dae7-6f71-4b35-c23a-f2ac1ca74aa1"
      },
      "source": [
        "sum_fares_by_type = pyber_complete_df.groupby(['type']).sum()['fare']\n",
        "sum_fares_by_type"
      ],
      "execution_count": 54,
      "outputs": [
        {
          "output_type": "execute_result",
          "data": {
            "text/plain": [
              "type\n",
              "Rural        4327.93\n",
              "Suburban    19356.33\n",
              "Urban       39854.38\n",
              "Name: fare, dtype: float64"
            ]
          },
          "metadata": {
            "tags": []
          },
          "execution_count": 54
        }
      ]
    },
    {
      "cell_type": "code",
      "metadata": {
        "id": "fQxvOCRr-F-R",
        "colab_type": "code",
        "colab": {
          "base_uri": "https://localhost:8080/",
          "height": 33
        },
        "outputId": "508a4128-a111-4158-98db-d3efbc732f4a"
      },
      "source": [
        "total_fares = pyber_complete_df['fare'].sum()\n",
        "total_fares"
      ],
      "execution_count": 55,
      "outputs": [
        {
          "output_type": "execute_result",
          "data": {
            "text/plain": [
              "63538.64"
            ]
          },
          "metadata": {
            "tags": []
          },
          "execution_count": 55
        }
      ]
    },
    {
      "cell_type": "code",
      "metadata": {
        "id": "4zy0M3pU-YhF",
        "colab_type": "code",
        "colab": {
          "base_uri": "https://localhost:8080/",
          "height": 98
        },
        "outputId": "d3d94d5d-783a-48ce-b55d-42f4977029a9"
      },
      "source": [
        "type_percents = 100 * sum_fares_by_type / total_fares\n",
        "type_percents"
      ],
      "execution_count": 56,
      "outputs": [
        {
          "output_type": "execute_result",
          "data": {
            "text/plain": [
              "type\n",
              "Rural        6.811493\n",
              "Suburban    30.463872\n",
              "Urban       62.724635\n",
              "Name: fare, dtype: float64"
            ]
          },
          "metadata": {
            "tags": []
          },
          "execution_count": 56
        }
      ]
    },
    {
      "cell_type": "code",
      "metadata": {
        "id": "pFxJlm7G-ps4",
        "colab_type": "code",
        "colab": {
          "base_uri": "https://localhost:8080/",
          "height": 98
        },
        "outputId": "364599e4-c6d1-465e-a4fe-4cc0ff4d0022"
      },
      "source": [
        "type_percents = pyber_complete_df.groupby(['type']).sum()['fare'] / pyber_complete_df['fare'].sum() * 100\n",
        "type_percents"
      ],
      "execution_count": 57,
      "outputs": [
        {
          "output_type": "execute_result",
          "data": {
            "text/plain": [
              "type\n",
              "Rural        6.811493\n",
              "Suburban    30.463872\n",
              "Urban       62.724635\n",
              "Name: fare, dtype: float64"
            ]
          },
          "metadata": {
            "tags": []
          },
          "execution_count": 57
        }
      ]
    },
    {
      "cell_type": "code",
      "metadata": {
        "id": "8_M4h_7B_Fke",
        "colab_type": "code",
        "colab": {
          "base_uri": "https://localhost:8080/",
          "height": 377
        },
        "outputId": "670a18a1-2992-4a65-a06d-ffe69b53ac3b"
      },
      "source": [
        "import matplotlib as mpl\n",
        "# Build the percentage of fares by city type pie chart.\n",
        "plt.subplots(figsize=(10, 6))\n",
        "plt.pie(type_percents, \n",
        "        labels = ['Rural', 'Suburban', 'Urban'],\n",
        "        colors = ['gold', 'lightskyblue', 'lightcoral'],\n",
        "        explode = [0, 0, 0.1],\n",
        "        autopct = '%1.1f%%',\n",
        "        shadow = True, startangle = 150)\n",
        "plt.title('% of Total Fares by City Type')\n",
        "# Change the default font size from 10 to 14.\n",
        "mpl.rcParams['font.size'] = 14\n",
        "# Save Figure\n",
        "plt.savefig('/content/drive/My Drive/Colab Notebooks/PyBer_Analysis/Analysis/Fig5.png')\n",
        "# Show Figure\n",
        "plt.show()"
      ],
      "execution_count": 60,
      "outputs": [
        {
          "output_type": "display_data",
          "data": {
            "image/png": "[encoded data removed]",
            "text/plain": [
              "<Figure size 720x432 with 1 Axes>"
            ]
          },
          "metadata": {
            "tags": []
          }
        }
      ]
    },
    {
      "cell_type": "code",
      "metadata": {
        "id": "xBEFM8EfBxT5",
        "colab_type": "code",
        "colab": {}
      },
      "source": [
        ""
      ],
      "execution_count": 58,
      "outputs": []
    }
  ]
}