{
  "nbformat": 4,
  "nbformat_minor": 0,
  "metadata": {
    "colab": {
      "name": "PyBer.ipynb",
      "provenance": [],
      "collapsed_sections": []
    },
    "kernelspec": {
      "name": "python3",
      "display_name": "Python 3"
    }
  },
  "cells": [
    {
      "cell_type": "code",
      "metadata": {
        "id": "iCyuXTPKWuYe",
        "colab_type": "code",
        "colab": {}
      },
      "source": [
        "%matplotlib inline\n",
        "\n",
        "# Import dependencies\n",
        "import pandas as pd\n",
        "import numpy as np\n",
        "import matplotlib.pyplot as plt\n"
      ],
      "execution_count": 1,
      "outputs": []
    },
    {
      "cell_type": "code",
      "metadata": {
        "id": "XsmahPQjXozL",
        "colab_type": "code",
        "colab": {}
      },
      "source": [
        "# Import data \n",
        "city_data_to_load = '/content/drive/My Drive/Colab Notebooks/PyBer_Analysis/Resources/city_data.csv'\n",
        "ride_data_to_load = '/content/drive/My Drive/Colab Notebooks/PyBer_Analysis/Resources/ride_data.csv'"
      ],
      "execution_count": 2,
      "outputs": []
    },
    {
      "cell_type": "code",
      "metadata": {
        "id": "SQhggRMkXpOx",
        "colab_type": "code",
        "colab": {
          "base_uri": "https://localhost:8080/",
          "height": 191
        },
        "outputId": "f1e52d67-1d6a-477e-a1ee-1203b156c675"
      },
      "source": [
        "city_data_df = pd.read_csv(city_data_to_load)\n",
        "city_data_df.head()"
      ],
      "execution_count": 3,
      "outputs": [
        {
          "output_type": "execute_result",
          "data": {
            "text/html": [
              "<div>\n",
              "<style scoped>\n",
              "    .dataframe tbody tr th:only-of-type {\n",
              "        vertical-align: middle;\n",
              "    }\n",
              "\n",
              "    .dataframe tbody tr th {\n",
              "        vertical-align: top;\n",
              "    }\n",
              "\n",
              "    .dataframe thead th {\n",
              "        text-align: right;\n",
              "    }\n",
              "</style>\n",
              "<table border=\"1\" class=\"dataframe\">\n",
              "  <thead>\n",
              "    <tr style=\"text-align: right;\">\n",
              "      <th></th>\n",
              "      <th>city</th>\n",
              "      <th>driver_count</th>\n",
              "      <th>type</th>\n",
              "    </tr>\n",
              "  </thead>\n",
              "  <tbody>\n",
              "    <tr>\n",
              "      <th>0</th>\n",
              "      <td>Richardfort</td>\n",
              "      <td>38</td>\n",
              "      <td>Urban</td>\n",
              "    </tr>\n",
              "    <tr>\n",
              "      <th>1</th>\n",
              "      <td>Williamsstad</td>\n",
              "      <td>59</td>\n",
              "      <td>Urban</td>\n",
              "    </tr>\n",
              "    <tr>\n",
              "      <th>2</th>\n",
              "      <td>Port Angela</td>\n",
              "      <td>67</td>\n",
              "      <td>Urban</td>\n",
              "    </tr>\n",
              "    <tr>\n",
              "      <th>3</th>\n",
              "      <td>Rodneyfort</td>\n",
              "      <td>34</td>\n",
              "      <td>Urban</td>\n",
              "    </tr>\n",
              "    <tr>\n",
              "      <th>4</th>\n",
              "      <td>West Robert</td>\n",
              "      <td>39</td>\n",
              "      <td>Urban</td>\n",
              "    </tr>\n",
              "  </tbody>\n",
              "</table>\n",
              "</div>"
            ],
            "text/plain": [
              "           city  driver_count   type\n",
              "0   Richardfort            38  Urban\n",
              "1  Williamsstad            59  Urban\n",
              "2   Port Angela            67  Urban\n",
              "3    Rodneyfort            34  Urban\n",
              "4   West Robert            39  Urban"
            ]
          },
          "metadata": {
            "tags": []
          },
          "execution_count": 3
        }
      ]
    },
    {
      "cell_type": "code",
      "metadata": {
        "id": "7BRAr-yhX38O",
        "colab_type": "code",
        "colab": {
          "base_uri": "https://localhost:8080/",
          "height": 191
        },
        "outputId": "d1d12421-da2a-456e-a88d-b9df2030b292"
      },
      "source": [
        "ride_data_df = pd.read_csv(ride_data_to_load)\n",
        "ride_data_df.head()"
      ],
      "execution_count": 4,
      "outputs": [
        {
          "output_type": "execute_result",
          "data": {
            "text/html": [
              "<div>\n",
              "<style scoped>\n",
              "    .dataframe tbody tr th:only-of-type {\n",
              "        vertical-align: middle;\n",
              "    }\n",
              "\n",
              "    .dataframe tbody tr th {\n",
              "        vertical-align: top;\n",
              "    }\n",
              "\n",
              "    .dataframe thead th {\n",
              "        text-align: right;\n",
              "    }\n",
              "</style>\n",
              "<table border=\"1\" class=\"dataframe\">\n",
              "  <thead>\n",
              "    <tr style=\"text-align: right;\">\n",
              "      <th></th>\n",
              "      <th>city</th>\n",
              "      <th>date</th>\n",
              "      <th>fare</th>\n",
              "      <th>ride_id</th>\n",
              "    </tr>\n",
              "  </thead>\n",
              "  <tbody>\n",
              "    <tr>\n",
              "      <th>0</th>\n",
              "      <td>Lake Jonathanshire</td>\n",
              "      <td>2019-01-14 10:14:22</td>\n",
              "      <td>13.83</td>\n",
              "      <td>5739410935873</td>\n",
              "    </tr>\n",
              "    <tr>\n",
              "      <th>1</th>\n",
              "      <td>South Michelleport</td>\n",
              "      <td>2019-03-04 18:24:09</td>\n",
              "      <td>30.24</td>\n",
              "      <td>2343912425577</td>\n",
              "    </tr>\n",
              "    <tr>\n",
              "      <th>2</th>\n",
              "      <td>Port Samanthamouth</td>\n",
              "      <td>2019-02-24 04:29:00</td>\n",
              "      <td>33.44</td>\n",
              "      <td>2005065760003</td>\n",
              "    </tr>\n",
              "    <tr>\n",
              "      <th>3</th>\n",
              "      <td>Rodneyfort</td>\n",
              "      <td>2019-02-10 23:22:03</td>\n",
              "      <td>23.44</td>\n",
              "      <td>5149245426178</td>\n",
              "    </tr>\n",
              "    <tr>\n",
              "      <th>4</th>\n",
              "      <td>South Jack</td>\n",
              "      <td>2019-03-06 04:28:35</td>\n",
              "      <td>34.58</td>\n",
              "      <td>3908451377344</td>\n",
              "    </tr>\n",
              "  </tbody>\n",
              "</table>\n",
              "</div>"
            ],
            "text/plain": [
              "                 city                 date   fare        ride_id\n",
              "0  Lake Jonathanshire  2019-01-14 10:14:22  13.83  5739410935873\n",
              "1  South Michelleport  2019-03-04 18:24:09  30.24  2343912425577\n",
              "2  Port Samanthamouth  2019-02-24 04:29:00  33.44  2005065760003\n",
              "3          Rodneyfort  2019-02-10 23:22:03  23.44  5149245426178\n",
              "4          South Jack  2019-03-06 04:28:35  34.58  3908451377344"
            ]
          },
          "metadata": {
            "tags": []
          },
          "execution_count": 4
        }
      ]
    },
    {
      "cell_type": "code",
      "metadata": {
        "id": "kmL9avMtYFOo",
        "colab_type": "code",
        "colab": {
          "base_uri": "https://localhost:8080/",
          "height": 82
        },
        "outputId": "2dd7ed21-7849-48d4-f2c9-784fba30dbf6"
      },
      "source": [
        "# Get the columns and rows that are not null\n",
        "city_data_df.isnull().sum()"
      ],
      "execution_count": 9,
      "outputs": [
        {
          "output_type": "execute_result",
          "data": {
            "text/plain": [
              "city            0\n",
              "driver_count    0\n",
              "type            0\n",
              "dtype: int64"
            ]
          },
          "metadata": {
            "tags": []
          },
          "execution_count": 9
        }
      ]
    },
    {
      "cell_type": "code",
      "metadata": {
        "id": "Cqqov1thYi9S",
        "colab_type": "code",
        "colab": {
          "base_uri": "https://localhost:8080/",
          "height": 82
        },
        "outputId": "a1bc2036-1df6-45e2-b6a6-bcdd9df0ef3b"
      },
      "source": [
        "# Get the data types for each column\n",
        "city_data_df.dtypes"
      ],
      "execution_count": 10,
      "outputs": [
        {
          "output_type": "execute_result",
          "data": {
            "text/plain": [
              "city            object\n",
              "driver_count     int64\n",
              "type            object\n",
              "dtype: object"
            ]
          },
          "metadata": {
            "tags": []
          },
          "execution_count": 10
        }
      ]
    },
    {
      "cell_type": "code",
      "metadata": {
        "id": "qcbhUou2ZLiL",
        "colab_type": "code",
        "colab": {
          "base_uri": "https://localhost:8080/",
          "height": 33
        },
        "outputId": "ce9be554-3555-4e86-c222-cc5d0a5798b1"
      },
      "source": [
        "# Get the unique values of the type of city\n",
        "city_data_df['type'].unique()"
      ],
      "execution_count": 12,
      "outputs": [
        {
          "output_type": "execute_result",
          "data": {
            "text/plain": [
              "array(['Urban', 'Suburban', 'Rural'], dtype=object)"
            ]
          },
          "metadata": {
            "tags": []
          },
          "execution_count": 12
        }
      ]
    },
    {
      "cell_type": "code",
      "metadata": {
        "id": "AtOPRF1VZclj",
        "colab_type": "code",
        "colab": {
          "base_uri": "https://localhost:8080/",
          "height": 33
        },
        "outputId": "639d2d0e-f3f3-4af5-d109-60c58f632671"
      },
      "source": [
        "# Get the number of data points from urban cities\n",
        "sum(city_data_df['type'] == 'Rural')"
      ],
      "execution_count": 18,
      "outputs": [
        {
          "output_type": "execute_result",
          "data": {
            "text/plain": [
              "18"
            ]
          },
          "metadata": {
            "tags": []
          },
          "execution_count": 18
        }
      ]
    },
    {
      "cell_type": "code",
      "metadata": {
        "id": "CR8WT8q1Z7YV",
        "colab_type": "code",
        "colab": {
          "base_uri": "https://localhost:8080/",
          "height": 98
        },
        "outputId": "43611ec9-a5e7-4aca-8b01-f80d0a15aa70"
      },
      "source": [
        "# Get the columns and rows that are not null\n",
        "ride_data_df.isnull().sum()"
      ],
      "execution_count": 19,
      "outputs": [
        {
          "output_type": "execute_result",
          "data": {
            "text/plain": [
              "city       0\n",
              "date       0\n",
              "fare       0\n",
              "ride_id    0\n",
              "dtype: int64"
            ]
          },
          "metadata": {
            "tags": []
          },
          "execution_count": 19
        }
      ]
    },
    {
      "cell_type": "code",
      "metadata": {
        "id": "9r11ZAFyuGjs",
        "colab_type": "code",
        "colab": {
          "base_uri": "https://localhost:8080/",
          "height": 98
        },
        "outputId": "3bd0629f-b6b0-497a-ba88-4c21afe232dc"
      },
      "source": [
        "# Get the data types for each column\n",
        "ride_data_df.dtypes"
      ],
      "execution_count": 20,
      "outputs": [
        {
          "output_type": "execute_result",
          "data": {
            "text/plain": [
              "city        object\n",
              "date        object\n",
              "fare       float64\n",
              "ride_id      int64\n",
              "dtype: object"
            ]
          },
          "metadata": {
            "tags": []
          },
          "execution_count": 20
        }
      ]
    },
    {
      "cell_type": "code",
      "metadata": {
        "id": "J72APsn3uL9w",
        "colab_type": "code",
        "colab": {
          "base_uri": "https://localhost:8080/",
          "height": 191
        },
        "outputId": "11a895a7-738a-4abf-8dbd-c798a5fe8c4a"
      },
      "source": [
        "# Merge DataFrames\n",
        "pyber_complete_df = pd.merge(ride_data_df, city_data_df, how='left', on=['city', 'city'])\n",
        "pyber_complete_df.head()"
      ],
      "execution_count": 25,
      "outputs": [
        {
          "output_type": "execute_result",
          "data": {
            "text/html": [
              "<div>\n",
              "<style scoped>\n",
              "    .dataframe tbody tr th:only-of-type {\n",
              "        vertical-align: middle;\n",
              "    }\n",
              "\n",
              "    .dataframe tbody tr th {\n",
              "        vertical-align: top;\n",
              "    }\n",
              "\n",
              "    .dataframe thead th {\n",
              "        text-align: right;\n",
              "    }\n",
              "</style>\n",
              "<table border=\"1\" class=\"dataframe\">\n",
              "  <thead>\n",
              "    <tr style=\"text-align: right;\">\n",
              "      <th></th>\n",
              "      <th>city</th>\n",
              "      <th>date</th>\n",
              "      <th>fare</th>\n",
              "      <th>ride_id</th>\n",
              "      <th>driver_count</th>\n",
              "      <th>type</th>\n",
              "    </tr>\n",
              "  </thead>\n",
              "  <tbody>\n",
              "    <tr>\n",
              "      <th>0</th>\n",
              "      <td>Lake Jonathanshire</td>\n",
              "      <td>2019-01-14 10:14:22</td>\n",
              "      <td>13.83</td>\n",
              "      <td>5739410935873</td>\n",
              "      <td>5</td>\n",
              "      <td>Urban</td>\n",
              "    </tr>\n",
              "    <tr>\n",
              "      <th>1</th>\n",
              "      <td>South Michelleport</td>\n",
              "      <td>2019-03-04 18:24:09</td>\n",
              "      <td>30.24</td>\n",
              "      <td>2343912425577</td>\n",
              "      <td>72</td>\n",
              "      <td>Urban</td>\n",
              "    </tr>\n",
              "    <tr>\n",
              "      <th>2</th>\n",
              "      <td>Port Samanthamouth</td>\n",
              "      <td>2019-02-24 04:29:00</td>\n",
              "      <td>33.44</td>\n",
              "      <td>2005065760003</td>\n",
              "      <td>57</td>\n",
              "      <td>Urban</td>\n",
              "    </tr>\n",
              "    <tr>\n",
              "      <th>3</th>\n",
              "      <td>Rodneyfort</td>\n",
              "      <td>2019-02-10 23:22:03</td>\n",
              "      <td>23.44</td>\n",
              "      <td>5149245426178</td>\n",
              "      <td>34</td>\n",
              "      <td>Urban</td>\n",
              "    </tr>\n",
              "    <tr>\n",
              "      <th>4</th>\n",
              "      <td>South Jack</td>\n",
              "      <td>2019-03-06 04:28:35</td>\n",
              "      <td>34.58</td>\n",
              "      <td>3908451377344</td>\n",
              "      <td>46</td>\n",
              "      <td>Urban</td>\n",
              "    </tr>\n",
              "  </tbody>\n",
              "</table>\n",
              "</div>"
            ],
            "text/plain": [
              "                 city                 date  ...  driver_count   type\n",
              "0  Lake Jonathanshire  2019-01-14 10:14:22  ...             5  Urban\n",
              "1  South Michelleport  2019-03-04 18:24:09  ...            72  Urban\n",
              "2  Port Samanthamouth  2019-02-24 04:29:00  ...            57  Urban\n",
              "3          Rodneyfort  2019-02-10 23:22:03  ...            34  Urban\n",
              "4          South Jack  2019-03-06 04:28:35  ...            46  Urban\n",
              "\n",
              "[5 rows x 6 columns]"
            ]
          },
          "metadata": {
            "tags": []
          },
          "execution_count": 25
        }
      ]
    },
    {
      "cell_type": "code",
      "metadata": {
        "id": "DRd_YsWBvVJ5",
        "colab_type": "code",
        "colab": {
          "base_uri": "https://localhost:8080/",
          "height": 191
        },
        "outputId": "364562a4-3292-4b47-974b-b35922b3ab31"
      },
      "source": [
        "# Create DF for Urban cities\n",
        "urban_cities_df = pyber_complete_df[pyber_complete_df['type'] == 'Urban']\n",
        "urban_cities_df.head()"
      ],
      "execution_count": 26,
      "outputs": [
        {
          "output_type": "execute_result",
          "data": {
            "text/html": [
              "<div>\n",
              "<style scoped>\n",
              "    .dataframe tbody tr th:only-of-type {\n",
              "        vertical-align: middle;\n",
              "    }\n",
              "\n",
              "    .dataframe tbody tr th {\n",
              "        vertical-align: top;\n",
              "    }\n",
              "\n",
              "    .dataframe thead th {\n",
              "        text-align: right;\n",
              "    }\n",
              "</style>\n",
              "<table border=\"1\" class=\"dataframe\">\n",
              "  <thead>\n",
              "    <tr style=\"text-align: right;\">\n",
              "      <th></th>\n",
              "      <th>city</th>\n",
              "      <th>date</th>\n",
              "      <th>fare</th>\n",
              "      <th>ride_id</th>\n",
              "      <th>driver_count</th>\n",
              "      <th>type</th>\n",
              "    </tr>\n",
              "  </thead>\n",
              "  <tbody>\n",
              "    <tr>\n",
              "      <th>0</th>\n",
              "      <td>Lake Jonathanshire</td>\n",
              "      <td>2019-01-14 10:14:22</td>\n",
              "      <td>13.83</td>\n",
              "      <td>5739410935873</td>\n",
              "      <td>5</td>\n",
              "      <td>Urban</td>\n",
              "    </tr>\n",
              "    <tr>\n",
              "      <th>1</th>\n",
              "      <td>South Michelleport</td>\n",
              "      <td>2019-03-04 18:24:09</td>\n",
              "      <td>30.24</td>\n",
              "      <td>2343912425577</td>\n",
              "      <td>72</td>\n",
              "      <td>Urban</td>\n",
              "    </tr>\n",
              "    <tr>\n",
              "      <th>2</th>\n",
              "      <td>Port Samanthamouth</td>\n",
              "      <td>2019-02-24 04:29:00</td>\n",
              "      <td>33.44</td>\n",
              "      <td>2005065760003</td>\n",
              "      <td>57</td>\n",
              "      <td>Urban</td>\n",
              "    </tr>\n",
              "    <tr>\n",
              "      <th>3</th>\n",
              "      <td>Rodneyfort</td>\n",
              "      <td>2019-02-10 23:22:03</td>\n",
              "      <td>23.44</td>\n",
              "      <td>5149245426178</td>\n",
              "      <td>34</td>\n",
              "      <td>Urban</td>\n",
              "    </tr>\n",
              "    <tr>\n",
              "      <th>4</th>\n",
              "      <td>South Jack</td>\n",
              "      <td>2019-03-06 04:28:35</td>\n",
              "      <td>34.58</td>\n",
              "      <td>3908451377344</td>\n",
              "      <td>46</td>\n",
              "      <td>Urban</td>\n",
              "    </tr>\n",
              "  </tbody>\n",
              "</table>\n",
              "</div>"
            ],
            "text/plain": [
              "                 city                 date  ...  driver_count   type\n",
              "0  Lake Jonathanshire  2019-01-14 10:14:22  ...             5  Urban\n",
              "1  South Michelleport  2019-03-04 18:24:09  ...            72  Urban\n",
              "2  Port Samanthamouth  2019-02-24 04:29:00  ...            57  Urban\n",
              "3          Rodneyfort  2019-02-10 23:22:03  ...            34  Urban\n",
              "4          South Jack  2019-03-06 04:28:35  ...            46  Urban\n",
              "\n",
              "[5 rows x 6 columns]"
            ]
          },
          "metadata": {
            "tags": []
          },
          "execution_count": 26
        }
      ]
    },
    {
      "cell_type": "code",
      "metadata": {
        "id": "FspqCm1pxYmn",
        "colab_type": "code",
        "colab": {
          "base_uri": "https://localhost:8080/",
          "height": 277
        },
        "outputId": "19c36dcc-f33d-4f6e-e7c8-d05b2f2bea5c"
      },
      "source": [
        "# Create DF's for Suburban and Rural\n",
        "suburban_cities_df = pyber_complete_df[pyber_complete_df['type'] == 'Suburban']\n",
        "rural_cities_df = pyber_complete_df[pyber_complete_df['type'] == 'Rural']\n",
        "print(suburban_cities_df.head())\n",
        "print(rural_cities_df.head())"
      ],
      "execution_count": 27,
      "outputs": [
        {
          "output_type": "stream",
          "text": [
            "               city                 date  ...  driver_count      type\n",
            "1625  Barronchester  2019-01-27 03:08:01  ...            11  Suburban\n",
            "1626  East Kentstad  2019-04-07 19:44:19  ...            20  Suburban\n",
            "1627      Lake Omar  2019-01-17 21:33:35  ...            22  Suburban\n",
            "1628     Myersshire  2019-02-27 17:38:39  ...            19  Suburban\n",
            "1629    West Hannah  2019-04-19 01:06:59  ...            12  Suburban\n",
            "\n",
            "[5 rows x 6 columns]\n",
            "                 city                 date  ...  driver_count   type\n",
            "2250   Randallchester  2019-04-13 11:13:31  ...             9  Rural\n",
            "2251      North Holly  2019-02-02 14:54:00  ...             8  Rural\n",
            "2252      Michaelberg  2019-03-27 18:27:34  ...             6  Rural\n",
            "2253  Lake Latoyabury  2019-02-23 21:12:24  ...             2  Rural\n",
            "2254  Lake Latoyabury  2019-05-06 08:57:56  ...             2  Rural\n",
            "\n",
            "[5 rows x 6 columns]\n"
          ],
          "name": "stdout"
        }
      ]
    },
    {
      "cell_type": "code",
      "metadata": {
        "id": "_AT684rAyMKB",
        "colab_type": "code",
        "colab": {
          "base_uri": "https://localhost:8080/",
          "height": 131
        },
        "outputId": "f5afd939-c136-45c8-bf91-52461a878042"
      },
      "source": [
        "# Create ride count by city type\n",
        "urban_ride_count = urban_cities_df.groupby(['city']).count()['ride_id']\n",
        "urban_ride_count.head()"
      ],
      "execution_count": 32,
      "outputs": [
        {
          "output_type": "execute_result",
          "data": {
            "text/plain": [
              "city\n",
              "Amandaburgh        18\n",
              "Barajasview        22\n",
              "Carriemouth        27\n",
              "Christopherfurt    27\n",
              "Deanville          19\n",
              "Name: ride_id, dtype: int64"
            ]
          },
          "metadata": {
            "tags": []
          },
          "execution_count": 32
        }
      ]
    },
    {
      "cell_type": "code",
      "metadata": {
        "id": "Ev3Q55UCynnP",
        "colab_type": "code",
        "colab": {
          "base_uri": "https://localhost:8080/",
          "height": 245
        },
        "outputId": "1d9eed07-ede7-4081-d46a-9c28378fcc1f"
      },
      "source": [
        "# Create ride count by city type\n",
        "suburban_ride_count = suburban_cities_df.groupby(['city']).count()['ride_id']\n",
        "rural_ride_count = rural_cities_df.groupby(['city']).count()['ride_id']\n",
        "print(suburban_ride_count.head())\n",
        "print(rural_ride_count.head())"
      ],
      "execution_count": 34,
      "outputs": [
        {
          "output_type": "stream",
          "text": [
            "city\n",
            "Barronchester    16\n",
            "Bethanyland      18\n",
            "Brandonfort      19\n",
            "Colemanland      22\n",
            "Davidfurt        17\n",
            "Name: ride_id, dtype: int64\n",
            "city\n",
            "Bradshawfurt      10\n",
            "Garzaport          3\n",
            "Harringtonfort     6\n",
            "Jessicaport        6\n",
            "Lake Jamie         6\n",
            "Name: ride_id, dtype: int64\n"
          ],
          "name": "stdout"
        }
      ]
    },
    {
      "cell_type": "code",
      "metadata": {
        "id": "V2VtBxAOzzVb",
        "colab_type": "code",
        "colab": {
          "base_uri": "https://localhost:8080/",
          "height": 131
        },
        "outputId": "02a8ad99-6e1a-4d57-adf6-20f80a2b52ea"
      },
      "source": [
        "# Get the average fare for each city in the urban cities\n",
        "urban_avg_fare = urban_cities_df.groupby(['city']).mean()['fare']\n",
        "urban_avg_fare.head()"
      ],
      "execution_count": 37,
      "outputs": [
        {
          "output_type": "execute_result",
          "data": {
            "text/plain": [
              "city\n",
              "Amandaburgh        24.641667\n",
              "Barajasview        25.332273\n",
              "Carriemouth        28.314444\n",
              "Christopherfurt    24.501852\n",
              "Deanville          25.842632\n",
              "Name: fare, dtype: float64"
            ]
          },
          "metadata": {
            "tags": []
          },
          "execution_count": 37
        }
      ]
    },
    {
      "cell_type": "code",
      "metadata": {
        "id": "7UGiLBaW0ku2",
        "colab_type": "code",
        "colab": {
          "base_uri": "https://localhost:8080/",
          "height": 245
        },
        "outputId": "1155ab11-9220-4a30-d362-f2b32444fd58"
      },
      "source": [
        "# Get the average fare for each city in suburban and rural cities\n",
        "suburban_avg_fare = suburban_cities_df.groupby(['city']).mean()['fare']\n",
        "rural_avg_fare = rural_cities_df.groupby(['city']).mean()['fare']\n",
        "print(suburban_avg_fare.head())\n",
        "print(rural_avg_fare.head())"
      ],
      "execution_count": 38,
      "outputs": [
        {
          "output_type": "stream",
          "text": [
            "city\n",
            "Barronchester    36.422500\n",
            "Bethanyland      32.956111\n",
            "Brandonfort      35.437368\n",
            "Colemanland      30.894545\n",
            "Davidfurt        31.995882\n",
            "Name: fare, dtype: float64\n",
            "city\n",
            "Bradshawfurt      40.064000\n",
            "Garzaport         24.123333\n",
            "Harringtonfort    33.470000\n",
            "Jessicaport       36.013333\n",
            "Lake Jamie        34.358333\n",
            "Name: fare, dtype: float64\n"
          ],
          "name": "stdout"
        }
      ]
    },
    {
      "cell_type": "code",
      "metadata": {
        "id": "LmPOG77Z1X4K",
        "colab_type": "code",
        "colab": {
          "base_uri": "https://localhost:8080/",
          "height": 131
        },
        "outputId": "c27a4ebd-b88d-4076-d672-0b6b534c4f44"
      },
      "source": [
        "# Get the average number of drivers for each urban city\n",
        "urban_driver_count = urban_cities_df.groupby(['city']).mean()['driver_count']\n",
        "urban_driver_count.head()"
      ],
      "execution_count": 41,
      "outputs": [
        {
          "output_type": "execute_result",
          "data": {
            "text/plain": [
              "city\n",
              "Amandaburgh        12.0\n",
              "Barajasview        26.0\n",
              "Carriemouth        52.0\n",
              "Christopherfurt    41.0\n",
              "Deanville          49.0\n",
              "Name: driver_count, dtype: float64"
            ]
          },
          "metadata": {
            "tags": []
          },
          "execution_count": 41
        }
      ]
    },
    {
      "cell_type": "code",
      "metadata": {
        "id": "T9pTIgLV2AWW",
        "colab_type": "code",
        "colab": {
          "base_uri": "https://localhost:8080/",
          "height": 245
        },
        "outputId": "6b67e0ed-89a9-4826-f030-a7e0fb41b4af"
      },
      "source": [
        "# Get the average number of drivers for suburban and rural cities\n",
        "suburban_driver_count = suburban_cities_df.groupby(['city']).mean()['driver_count']\n",
        "rural_driver_count = rural_cities_df.groupby(['city']).mean()['driver_count']\n",
        "print(suburban_driver_count.head())\n",
        "print(rural_driver_count.head())"
      ],
      "execution_count": 42,
      "outputs": [
        {
          "output_type": "stream",
          "text": [
            "city\n",
            "Barronchester    11.0\n",
            "Bethanyland      22.0\n",
            "Brandonfort      10.0\n",
            "Colemanland      23.0\n",
            "Davidfurt        23.0\n",
            "Name: driver_count, dtype: float64\n",
            "city\n",
            "Bradshawfurt      7.0\n",
            "Garzaport         7.0\n",
            "Harringtonfort    4.0\n",
            "Jessicaport       1.0\n",
            "Lake Jamie        4.0\n",
            "Name: driver_count, dtype: float64\n"
          ],
          "name": "stdout"
        }
      ]
    },
    {
      "cell_type": "code",
      "metadata": {
        "id": "vtMPO-1v2uBC",
        "colab_type": "code",
        "colab": {}
      },
      "source": [
        ""
      ],
      "execution_count": null,
      "outputs": []
    }
  ]
}